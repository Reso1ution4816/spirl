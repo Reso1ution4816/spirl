{
    "cells": [
        {
            "cell_type": "markdown",
            "source": [
                "# Assignment 3 (Oct 05)\n",
                "\n",
                "Today's topics will include:\n",
                "\n",
                "1. Python `tuples` (`()`) and unpack tuples/list\n",
                "2. Advance function: `*arg` and tupule outputs\n",
                "3. Advance fitting with `scipy.optimize.curve_fit()`\n",
                "   1. Chi-Squared ($\\chi^2$) and Reduced Chi-Squared ($\\chi^2_\\nu$)\n",
                "   2. Covariance matrix, getting uncertainty for your fitting results\n",
                "\n",
                "## Readings (optional)\n",
                "\n",
                "If you find this week's material new or challenging, you may want to read through some or all the following resources while working on your assignment:\n",
                "\n",
                "- [SPIRL Ch. 3.3.10. Tuples](https://cjtu.github.io/spirl/python_basic-types.html#tuples)\n",
                "\n",
                "October 05, 2021\\\n",
                "Instructor: Shih-Yun Tang"
            ],
            "metadata": {}
        },
        {
            "cell_type": "markdown",
            "source": [
                "## Python `tuples` (`()`)\n",
                "\n",
                "We learn about what `[]` and `{}` do in privous classes, finally, it is time for us to figure out what `()` do!\n",
                "\n",
                "And the answer is... quite simple, `()` (`tuple`), is the lucked version of its cousin `[]` (`list`).\n",
                "\n",
                "Once a `tuple` been made, you cannot modify it anymore!\n"
            ],
            "metadata": {}
        },
        {
            "cell_type": "code",
            "execution_count": null,
            "source": [
                "# for a normal list...\n",
                "list_stuff = ['green', 'blue', 'purple', 'yellow', 'black']\n",
                "\n",
                "# you can change stuff inside it afterward by \n",
                "print('Before: ', list_stuff)\n",
                "\n",
                "list_stuff[0] = 'nan'\n",
                "print('After: ', list_stuff)"
            ],
            "outputs": [],
            "metadata": {}
        },
        {
            "cell_type": "code",
            "execution_count": null,
            "source": [
                "# Now if we want do the same thing with tuple... you will get error...\n",
                "tuple_stuff = ('green', 'blue', 'purple', 'yellow', 'black')\n",
                "\n",
                "tuple_stuff[0] = 'nan'"
            ],
            "outputs": [],
            "metadata": {}
        },
        {
            "cell_type": "code",
            "execution_count": null,
            "source": [
                "# But you can still access each value by\n",
                "\n",
                "print(tuple_stuff[0:2])"
            ],
            "outputs": [],
            "metadata": {}
        },
        {
            "cell_type": "markdown",
            "source": [
                "Suprisingly, you had already met `tuple` before! \n",
                "\n",
                "Recall that in week 2 we tried to make a dictionary from two lists using `zip`:"
            ],
            "metadata": {}
        },
        {
            "cell_type": "code",
            "execution_count": null,
            "source": [
                "planets = ['mercury', 'venus', 'earth', 'mars', 'jupiter', 'saturn', 'uranus', 'neptune']\n",
                "planet_g = [3.61, 8.83, 9.80665, 3.75, 26.0, 11.2, 10.5, 13.3]\n",
                "\n",
                "zipped_list = list(zip(planets, planet_g))\n",
                "print(zipped_list)"
            ],
            "outputs": [],
            "metadata": {}
        },
        {
            "cell_type": "code",
            "execution_count": null,
            "source": [
                "print(zipped_list[0])\n",
                "\n",
                "print(f'Type for {zipped_list[0]} is {type(zipped_list[0])}')"
            ],
            "outputs": [],
            "metadata": {}
        },
        {
            "cell_type": "markdown",
            "source": [
                "## Unpack tuples and list (also `np.array`)\n",
                "\n",
                "Here we only do the demo using `tuple`, but, operation in `list` and `np.array` are the same!"
            ],
            "metadata": {}
        },
        {
            "cell_type": "code",
            "execution_count": null,
            "source": [
                "tuple_stuff = ('green', 'blue', 'purple', 'yellow', 'black')\n",
                "print('Whole tuple: ', tuple_stuff)\n",
                "\n",
                "a, b, c, d, e = tuple_stuff\n",
                "print('Individual value extracted are:', a, b, c, d, e)"
            ],
            "outputs": [],
            "metadata": {}
        },
        {
            "cell_type": "markdown",
            "source": [
                "### Unpack with the use of **asterisk** (*)\n",
                "\n",
                "If you are familiar with the `bash` wildcard `*`, then these will be very intuitive for you!"
            ],
            "metadata": {}
        },
        {
            "cell_type": "code",
            "execution_count": null,
            "source": [
                "a, b, *cde = tuple_stuff\n",
                "print(a, b, cde)\n",
                "\n",
                "a, b, *cd, e = tuple_stuff\n",
                "print(a, b, cd, e)\n",
                "\n",
                "a, *_ = tuple_stuff\n",
                "print(a)"
            ],
            "outputs": [],
            "metadata": {}
        },
        {
            "cell_type": "markdown",
            "source": [
                "## Advance function: `*arg` and tupule outputs\n",
                "\n",
                "Now we see how `*` do during unpacking `list/tuple/array`. Here is another cool stuff it can do in `function`."
            ],
            "metadata": {}
        },
        {
            "cell_type": "code",
            "execution_count": null,
            "source": [
                "def demo_func(a, b, c):\n",
                "    \n",
                "    print(f'a={a}, b={b}, c={c}')\n",
                "    \n",
                "    # yes! you can have a function without any output, i.e., not need of `return`.\n",
                "    \n",
                "coeff = [1, 2, 3]\n",
                "\n",
                "# usually you will pass in the values for a b c like...\n",
                "demo_func(coeff[0], coeff[1], coeff[2])"
            ],
            "outputs": [],
            "metadata": {}
        },
        {
            "cell_type": "code",
            "execution_count": null,
            "source": [
                "# but a more smart way to do it is by\n",
                "\n",
                "demo_func(*coeff)"
            ],
            "outputs": [],
            "metadata": {}
        },
        {
            "cell_type": "markdown",
            "source": [
                "The `*coeff` list you pass into the `demo_func` function will be automatically unpacked and asign to the `a, b, c`.\n",
                "\n",
                "So, what benefit can this cool move bring us??"
            ],
            "metadata": {}
        },
        {
            "cell_type": "code",
            "execution_count": null,
            "source": [
                "import numpy as np\n",
                "def demo_func(x, a, b, c):\n",
                "    print(f'x={x}, a={a}, b={b}, c={c}')\n",
                "    \n",
                "    return a + b * x + c * x**2\n",
                "    \n",
                "x = np.arange(5)\n",
                "coeff = [1, 2, 3]\n",
                "\n",
                "y = demo_func(x, *coeff)\n",
                "print(f'y = {y}' )"
            ],
            "outputs": [],
            "metadata": {}
        },
        {
            "cell_type": "markdown",
            "source": [
                "## Advance fitting with `scipy.optimize.curve_fit()`\n",
                "\n",
                "Last week's assignment we were trying to fit the free-fall function\n",
                "\n",
                "$$H = \\frac{1}{2} g t^2$$\n",
                "\n",
                "using the `np.polyfit`. But... it was kind of dump because the free-fall function only has the power equals to 2 term.\n",
                "\n",
                "Today, we are going to be smarter by defining our own function while doing the fit!\n",
                "\n",
                "To do so, we will be using a new packdge, `scipy.optimize.curve_fit()`."
            ],
            "metadata": {}
        },
        {
            "cell_type": "code",
            "execution_count": null,
            "source": [
                "# same data set took from assignment 2\n",
                "time_steps = np.array([ 20.   ,  27.966,  35.931,  43.897,  51.862,  59.828,  67.793,\n",
                "                    75.759,  83.724,  91.69 ,  99.655, 107.621, 115.586, 123.552,\n",
                "                    131.517, 139.483, 147.448, 155.414, 163.379, 171.345, 179.31 ,\n",
                "                    187.276, 195.241, 203.207, 211.172, 219.138, 227.103, 235.069,\n",
                "                    243.034, 251.   ])\n",
                "\n",
                "fall_distance = np.array([  2798.322,   4543.523,   5459.432,  11554.559,  15958.431,\n",
                "                        20023.776,  19146.256,  22765.371,  47183.159,  47167.289,\n",
                "                        22978.494,  66253.599,  63625.642,  91050.12 , 116941.625,\n",
                "                        143460.073, 106462.323, 142584.887, 199564.683,  83593.839,\n",
                "                        158030.907, 205442.175, 206733.665, 241555.039, 236078.303,\n",
                "                        240508.665, 311193.102, 298704.903, 339502.307, 438338.605])\n",
                "\n",
                "fall_distance_err = np.array([  448.   ,   875.919,  1445.964,  2158.136,  3012.435,  4008.861,\n",
                "                            5147.413,  6428.093,  7850.899,  9415.832, 18538.153, 21620.131,\n",
                "                            24938.986, 28494.72 , 32287.332, 36316.821, 40583.189, 45086.435,\n",
                "                            49826.558, 54803.56 , 18005.232, 19640.459, 21346.75 , 23124.104,\n",
                "                            24972.521, 26892.002, 28882.547, 30944.154, 33076.825, 35280.56 ])"
            ],
            "outputs": [],
            "metadata": {}
        },
        {
            "cell_type": "code",
            "execution_count": null,
            "source": [
                "from scipy.optimize import curve_fit\n",
                "import matplotlib.pyplot as plt\n",
                "\n",
                "# first define the free-fall function...\n",
                "# !! always put the `xdata` as the first argument!\n",
                "def free_fall_h(t, g):\n",
                "    \"\"\"Free fall distance given time t on Earth.\n",
                "\n",
                "    Args:\n",
                "        t (float or np.array): Time in [s]\n",
                "\n",
                "    Returns:\n",
                "        [float or np.array]: Free fall distance in [m]\n",
                "    \"\"\"\n",
                "    \n",
                "    return 0.5 * g * t**2"
            ],
            "outputs": [],
            "metadata": {}
        },
        {
            "cell_type": "markdown",
            "source": [
                "Now we perform the fit by using `curve_fit`\n",
                "\n",
                "Input parameters for `curve_fit`:\n",
                "```[note]\n",
                "curve_fit(f, xdata, ydata, p0=None, sigma=None, absolute_sigma=False, check_finite=True, bounds=(-inf, inf), method=None, jac=None, **kwargs)\n",
                "```\n",
                "\n",
                "Output from `curve_fit`\n",
                "```[note]\n",
                "Returns\n",
                "    -------\n",
                "    popt : array\n",
                "        Optimal values for the parameters so that the sum of the squared\n",
                "        residuals of ``f(xdata, *popt) - ydata`` is minimized\n",
                "    pcov : 2d array\n",
                "        The estimated covariance of popt. The diagonals provide the variance\n",
                "        of the parameter estimate. To compute one standard deviation errors\n",
                "        on the parameters use ``perr = np.sqrt(np.diag(pcov))``.\n",
                "```\n",
                "(see more detail with `help(curve_fit)`)"
            ],
            "metadata": {}
        },
        {
            "cell_type": "code",
            "execution_count": null,
            "source": [
                "popt, pcov = curve_fit(free_fall_h,             # f, function you defined for fitting\n",
                "                       time_steps,              # xdata\n",
                "                       fall_distance,           # ydata\n",
                "                       sigma=fall_distance_err, # uncertainty\n",
                "                       absolute_sigma=True      # Flase mean that the uncertainty you have is not in the same units as you ydata, e.g., error extimated by 1/ydata\n",
                "                       )"
            ],
            "outputs": [],
            "metadata": {}
        },
        {
            "cell_type": "code",
            "execution_count": null,
            "source": [
                "f = plt.figure(facecolor='white', figsize=(4,3), dpi=200 )\n",
                "ax1 = plt.subplot(111)\n",
                "\n",
                "ax1.errorbar(time_steps, fall_distance, \n",
                "             yerr = fall_distance_err, fmt = '.', ms=5, lw=0.5, label = 'Data')\n",
                "\n",
                "x = np.linspace(0, 251, 1000)\n",
                "ax1.plot(x, free_fall_h(x, *popt), '-', lw=1, label='Best fit result')\n",
                "\n",
                "ax1.tick_params(axis='both', which ='both', labelsize='small', right=True, top=True, direction='in')   \n",
                "ax1.set_xlabel('Time [sec]',    size='medium', style='normal', family='sans-serif', fontname='Helvetica')\n",
                "ax1.set_ylabel('Fall distance [m]', size='medium', style='normal', family='sans-serif', fontname='Helvetica')\n",
                "ax1.legend(fontsize='small')\n",
                "ax1.text(0.03, 0.83, f'''\n",
                "Best fit g is abbout {popt[0]:1.2f} m/s^2\n",
                "So the data is most likely taken from Saturn\n",
                "''', transform=ax1.transAxes, size='x-small', va='top')"
            ],
            "outputs": [],
            "metadata": {}
        },
        {
            "cell_type": "markdown",
            "source": [
                "## Exponential fitting\n",
                "\n",
                "Now let's try fitting two parameters using the light attenuation function for an example\n",
                "$$\n",
                "I = I_0 e^{-\\alpha x}\n",
                "$$\n",
                "where $x$ is the distance the light travels, $\\alpha$ is the attenuation coefficient, $I_0$ is the insert light intensity, and $I$ is the final light intensity."
            ],
            "metadata": {}
        },
        {
            "cell_type": "code",
            "execution_count": null,
            "source": [
                "# !! always put the `xdata` as the first argument!\n",
                "def attenuation(x, I0, alpha):\n",
                "    \"\"\"Light attenuation curve function for fitting alpha and I0\n",
                "\n",
                "    Args:\n",
                "        x (float or np.array): distance light travels\n",
                "        I0 (float): initial intensity\n",
                "        alpha ([type]): attenuation coefficient\n",
                "\n",
                "    Returns:\n",
                "        float or np.array: final intensity\n",
                "    \"\"\"\n",
                "    \n",
                "    return I0 * np.exp(-alpha * x)"
            ],
            "outputs": [],
            "metadata": {}
        },
        {
            "cell_type": "code",
            "execution_count": null,
            "source": [
                "x_distance = np.array([ 12.    ,  13.7959,  15.5918,  17.3878,  19.1837,  20.9796,\n",
                "        22.7755,  24.5714,  26.3673,  28.1633,  29.9592,  31.7551,\n",
                "        33.551 ,  35.3469,  37.1429,  38.9388,  40.7347,  42.5306,\n",
                "        44.3265,  46.1224,  47.9184,  49.7143,  51.5102,  53.3061,\n",
                "        55.102 ,  56.898 ,  58.6939,  60.4898,  62.2857,  64.0816,\n",
                "        65.8776,  67.6735,  69.4694,  71.2653,  73.0612,  74.8571,\n",
                "        76.6531,  78.449 ,  80.2449,  82.0408,  83.8367,  85.6327,\n",
                "        87.4286,  89.2245,  91.0204,  92.8163,  94.6122,  96.4082,\n",
                "        98.2041, 100.    ])\n",
                "\n",
                "I = np.array([482.214, 389.795, 417.421, 378.402, 393.997, 371.42 , 285.195,\n",
                "       347.59 , 304.29 , 322.799, 300.704, 295.73 , 271.516, 239.407,\n",
                "       229.565, 239.357, 191.643, 226.5  , 184.056, 176.801, 181.224,\n",
                "       166.537, 164.609, 179.143, 142.931, 159.787, 134.377, 109.336,\n",
                "       167.306, 123.342, 126.411,  81.928, 103.654,  97.031, 109.793,\n",
                "       118.463,  78.641,  50.353,  82.108,  71.716,  89.883,  80.013,\n",
                "        57.005,  67.241,  95.849,  83.303,  41.501,  49.54 ,  73.028,\n",
                "        73.103])\n",
                "\n",
                "I_err = np.array([ 37.723, -35.181,  11.103, -10.076,  22.576,  16.306, -54.328,\n",
                "        22.974,  -6.074,  26.061,  16.994,  24.477,  12.172,  -8.55 ,\n",
                "        -7.505,  12.695, -25.067,  19.304, -14.043, -12.6  ,   0.138,\n",
                "        -6.598,  -0.925,  20.877,  -8.387,  15.113,  -3.945, -22.913,\n",
                "        40.863,   2.451,  10.828, -28.581,  -2.003,  -3.987,  13.211,\n",
                "        26.121,  -9.647, -34.059,   1.402,  -5.446,  16.108,   9.478,\n",
                "       -10.434,   2.763,  34.203,  24.363, -14.852,  -4.338,  21.516,\n",
                "        23.852])\n",
                "\n",
                "I_org = np.array([444.4909, 424.9756, 406.317 , 388.4777, 371.4216, 355.1144,\n",
                "       339.5231, 324.6163, 310.3641, 296.7375, 283.7093, 271.253 ,\n",
                "       259.3437, 247.9572, 237.0707, 226.6621, 216.7105, 207.1958,\n",
                "       198.0989, 189.4014, 181.0857, 173.1352, 165.5337, 158.2659,\n",
                "       151.3173, 144.6737, 138.3218, 132.2488, 126.4424, 120.8909,\n",
                "       115.5832, 110.5086, 105.6567, 101.0178,  96.5826,  92.3422,\n",
                "        88.2879,  84.4116,  80.7055,  77.1622,  73.7744,  70.5353,\n",
                "        67.4385,  64.4776,  61.6467,  58.9401,  56.3523,  53.8782,\n",
                "        51.5127,  49.251 ])\n"
            ],
            "outputs": [],
            "metadata": {}
        },
        {
            "cell_type": "code",
            "execution_count": null,
            "source": [
                "f = plt.figure(facecolor='white', figsize=(4,3), dpi=200 )\n",
                "ax1 = plt.subplot(111)\n",
                "\n",
                "ax1.errorbar(x_distance, I, yerr=I_err, fmt='.', ms=5, lw=0.5)\n",
                "      \n",
                "ax1.tick_params(axis='both', which='both', labelsize='small', right=True, top=True, direction='in')   \n",
                "ax1.set_xlabel('Light travel distance [m]', size='medium', style='normal', family='sans-serif', fontname='Helvetica')\n",
                "ax1.set_ylabel('Intensity arbitrary units', size='medium', style='normal', family='sans-serif', fontname='Helvetica')\n",
                "plt.show()"
            ],
            "outputs": [],
            "metadata": {}
        },
        {
            "cell_type": "code",
            "execution_count": null,
            "source": [
                "popt, pcov = curve_fit(attenuation, x_distance, I, sigma=I_err, absolute_sigma=True)"
            ],
            "outputs": [],
            "metadata": {}
        },
        {
            "cell_type": "code",
            "execution_count": null,
            "source": [
                "f = plt.figure(facecolor='white', figsize=(4,3), dpi=200 )\n",
                "ax1 = plt.subplot(111)\n",
                "\n",
                "ax1.errorbar(x_distance, I, yerr=I_err, fmt='.', ms=5, lw=0.5)\n",
                "ax1.plot(x_distance, attenuation(x_distance, *popt), '-', lw=1)\n",
                "      \n",
                "ax1.tick_params(axis='both', which='both', labelsize='small', right=True, top=True, direction='in')   \n",
                "ax1.set_xlabel('Light travel distance [m]', size='medium', style='normal', family='sans-serif', fontname='Helvetica')\n",
                "ax1.set_ylabel('Intensity arbitrary units', size='medium', style='normal', family='sans-serif', fontname='Helvetica')\n",
                "\n",
                "plt.show()"
            ],
            "outputs": [],
            "metadata": {}
        },
        {
            "cell_type": "markdown",
            "source": [
                "Hummm, something must be wrong...\n",
                "\n",
                "It turns out that if you do not provide `p0`, the initial guess of each free parameter, the default is $1$.\n",
                "\n",
                "Let's try again by providing a `p0`."
            ],
            "metadata": {}
        },
        {
            "cell_type": "code",
            "execution_count": null,
            "source": [
                "popt, pcov = curve_fit(attenuation, x_distance, I, sigma=I_err, absolute_sigma=True, p0 = [500, 0.05])\n",
                "# ---------\n",
                "\n",
                "f = plt.figure(facecolor='white', figsize=(4,3), dpi=200 )\n",
                "ax1 = plt.subplot(111)\n",
                "\n",
                "ax1.errorbar(x_distance, I, yerr=I_err, fmt='.', ms=5, lw=0.5)\n",
                "ax1.plot(x_distance, attenuation(x_distance, *popt), '-', lw=1)\n",
                "      \n",
                "ax1.tick_params(axis='both', which='both', labelsize='small', right=True, top=True, direction='in')   \n",
                "ax1.set_xlabel('Light travel distance [m]', size='medium', style='normal', family='sans-serif', fontname='Helvetica')\n",
                "ax1.set_ylabel('Intensity arbitrary units', size='medium', style='normal', family='sans-serif', fontname='Helvetica')\n",
                "\n",
                "ax1.text(0.5, 0.9, f'I = {popt[0]:1.2f} $e^{{-{popt[1]:1.2f} x}}$', \n",
                "         transform=ax1.transAxes, size='medium', va='top', style='normal', family='monospace'  )\n",
                "\n",
                "\n",
                "plt.show()"
            ],
            "outputs": [],
            "metadata": {}
        },
        {
            "cell_type": "markdown",
            "source": [
                "### Chi-Squared ($\\chi^2$) and Reduced Chi-Squared ($\\chi^2_\\nu$)\n",
                "\n",
                "After the fitting, how can we know if the fitting result is good or bad?? Well, we can get some help with the **Reduced Chi-Squared ($\\chi^2_\\nu$)**\n",
                "\n",
                "$$\n",
                "\\chi^2_\\nu = \\frac{\\chi^2}{\\nu}\n",
                "$$\n",
                "where \\chi^2 is calculated by the below equation, $\\nu$ is the number of data points minus the number of model parameters. \n",
                "\n",
                "IF\n",
                "1. $\\chi^2_\\nu$ > 1: Bad fitting result. Either you shooce a bad model, you have too few data points or your uncertainty are under extimated.\n",
                "2. $\\chi^2_\\nu$ < 1: Fit too well, i.e., over fitting. This can be caused by wither over extimated of uncertainty or too many free parameters in fitting.\n",
                "   \n",
                "\n",
                "The Chi-Squared ($\\chi^2$) is given by\n",
                "$$\n",
                "\\chi^2 = \\sum_i \\frac{(D_i - M_i)^2}{\\sigma_i^2}\n",
                "$$\n",
                "where $D_i$ is the observed data, $M_i$ is the model fitted result, and $sigma_i$ is the observed data uncertainty.\n",
                "\n",
                "\n"
            ],
            "metadata": {}
        },
        {
            "cell_type": "code",
            "execution_count": null,
            "source": [
                "D_i = I.copy()                          # observed data\n",
                "M_i = attenuation(x_distance, *popt)    # model fitted result\n",
                "sigma_i = I_err.copy()                  # observed data uncertainty\n",
                "\n",
                "# Calculate the Chi-Square\n",
                "r = D_i - M_i\n",
                "chisq = np.sum( (r/sigma_i)**2 )\n",
                "\n",
                "print(f\"chisq = {chisq:1.2f}\")\n",
                "\n",
                "nu = len(D_i) - 2\n",
                "rechisq = chisq / nu\n",
                "print(f\"reduced chisq = {rechisq:1.2f}\")"
            ],
            "outputs": [],
            "metadata": {}
        },
        {
            "cell_type": "markdown",
            "source": [
                "## Covariance matrix, getting uncertainty for your fitting results\n",
                "\n",
                "In the docstring of `curve_fit` we see:\n",
                "```[note]\n",
                "    ...\n",
                "    pcov : 2d array\n",
                "        The estimated covariance of popt. The diagonals provide the variance\n",
                "        of the parameter estimate. To compute one standard deviation errors\n",
                "        on the parameters use ``perr = np.sqrt(np.diag(pcov))``.\n",
                "    ...\n",
                "```\n",
                "Why is the standard deviation errors of each fitted parameters equals to `np.sqrt(np.diag(pcov))` ??\n",
                "\n",
                "A quick catch up about **Covariance matrix**...\n",
                "\n",
                "The Covariance matrix with only two parameters looks like:\n",
                "$$\n",
                "\\begin{pmatrix}\n",
                "var(x) & cov(x,y)\\\\\n",
                "cov(x,y) & var(y)\n",
                "\\end{pmatrix}\n",
                "$$\n",
                "\n",
                "We know that the **standard deviation** is just the square root of the **variance**. \n",
                "\n",
                "Thus, we can first use the `np.diag()` function to extract the diagnal term of the covariance matrix (`pcov`) and then use `np.sqrt()` to calculate the square-root.\n",
                "\n",
                "And~ you get yourself the uncertainty (standard deviation errors) of each fitted parameters!"
            ],
            "metadata": {}
        },
        {
            "cell_type": "code",
            "execution_count": null,
            "source": [
                "# Demo on the `np.diag()`\n",
                "\n",
                "dump_matrix = np.matrix([[1, 2], \n",
                "                         [3, 4]])\n",
                "print('Whole matrix: \\n', dump_matrix)\n",
                "\n",
                "print('Only the diagonal term: \\n', np.diag(dump_matrix))"
            ],
            "outputs": [],
            "metadata": {}
        },
        {
            "cell_type": "code",
            "execution_count": null,
            "source": [
                "# Now working on our data\n",
                "\n",
                "print('Show the covariance matrix: \\n', pcov)\n",
                "\n",
                "par_unc = np.sqrt(np.diag(pcov))\n",
                "print('Show the STD: \\n', par_unc )"
            ],
            "outputs": [],
            "metadata": {}
        },
        {
            "cell_type": "code",
            "execution_count": null,
            "source": [
                "popt, pcov = curve_fit(attenuation, x_distance, I, sigma=I_err, absolute_sigma=True, p0 = [500, 0.05])\n",
                "# ---------\n",
                "\n",
                "f = plt.figure(facecolor='white', figsize=(4,3), dpi=200 )\n",
                "ax1 = plt.subplot(111)\n",
                "\n",
                "ax1.errorbar(x_distance, I, yerr=I_err, fmt='.', ms=5, lw=0.5)\n",
                "ax1.plot(x_distance, attenuation(x_distance, *popt), '-', lw=1)\n",
                "      \n",
                "ax1.tick_params(axis='both', which='both', labelsize='small', right=True, top=True, direction='in')   \n",
                "ax1.set_xlabel('Light travel distance [m]', size='medium', style='normal', family='sans-serif', fontname='Helvetica')\n",
                "ax1.set_ylabel('Intensity arbitrary units', size='medium', style='normal', family='sans-serif', fontname='Helvetica')\n",
                "\n",
                "ax1.text(0.1, 0.9, 'I = {:1.3f}$\\pm${:1.4f} e$^{{-{:1.3f}\\pm{:1.4f} x}}$'.format(popt[0], par_unc[0], popt[1], par_unc[1]), \n",
                "         transform=ax1.transAxes, size='medium', va='top', style='normal', family='monospace'  )\n",
                "\n",
                "\n",
                "plt.show()\n",
                "\n"
            ],
            "outputs": [],
            "metadata": {}
        },
        {
            "cell_type": "markdown",
            "source": [
                "## [Assignment] Gaussian curve fitting\n",
                "\n",
                "A very common way to calculate the radial velocity of a stellar object is to do a cross-correlation (CC) between your target spectrum and a template.\n",
                "\n",
                "Because you know the wavelength scale of your template well; thus, measuring the wavelength shift between your target spectrum and the template can tell you the amount of blue/red shift of your stellar target is, i.e., the radial velocity (RV).\n",
                "\n",
                "Below are 50 data points showing the cross-correlation reslut of your target. Now, to know the RV of your star, you need to fit a Gaussian to the data where the **mean** of the Gaussian is the RV value you want. The **$\\sigma$** of the Gaussian you fitted on the other hand, is the RV uncertainty!\n",
                "\n",
                "After you get the RV and RVerr, please do a Reduced Chi-Squared test, and get the errors from the covariance matrix to see how the fitting goes.\n",
                "\n",
                "\n",
                "A Gaussian function looks like\n",
                "$$\n",
                "y = a \\exp\\left({-\\frac{(x-b)^2}{2c^2}}\\right)\n",
                "$$\n",
                "where $a$ is the amplitude, $b$ is the mean, and $c$ is the $\\sigma$.\n",
                "\n",
                "> Usually, you do not get error for your CC values... just for the sake of practice I make also give you the CC error..."
            ],
            "metadata": {}
        },
        {
            "cell_type": "code",
            "execution_count": null,
            "source": [
                "x_velocity = np.array([37.535, 52.845, 53.918, 30.931,  5.6  , 39.144, 22.699, 19.801,\n",
                "       17.425, 39.381, 73.684,  9.484, 45.404, 46.831, 55.452, 20.019,\n",
                "       44.051, 18.543, 79.721, 31.844, 64.963, 75.49 , 39.81 ,  9.999,\n",
                "       28.751, 45.333, 23.268, 78.313, 76.148, 62.   , 47.152, 60.666,\n",
                "       34.733, 15.867, 12.259, 17.917, 76.266, 64.811, 55.157, 56.686,\n",
                "       73.041, 40.553, 53.292, 55.885, 32.44 , 41.581, 67.152, 48.553,\n",
                "       15.797, 61.86 ])\n",
                "\n",
                "\n",
                "y_CC_value = np.array([19.169, -2.234,  0.897, 45.039, 17.204, 17.93 , 55.546, 44.068,\n",
                "       39.233, 13.922, -0.699, 11.723,  1.399,  8.346, -4.435, 39.067,\n",
                "        4.272, 35.141,  1.099, 33.662,  9.232, -2.758,  5.609, 14.435,\n",
                "       52.204,  8.086, 38.945, -7.799,  3.969,  6.933,  2.702, -3.327,\n",
                "       22.832, 32.447, 23.415, 34.154, -5.133, -7.918,  4.573, -8.673,\n",
                "       -5.608, 20.915, -4.282,  0.947, 44.091,  4.933, -1.385,  2.817,\n",
                "       28.38 ,  4.481])\n",
                "\n",
                "y_CC_value_err = np.array([-0.0371, -2.9829,  0.3501,  7.2887,  8.3716,  2.6817,  7.9506,\n",
                "        0.1183,  0.5635, -0.7848, -0.6988, -5.0142, -3.4584,  4.8028,\n",
                "       -4.7763, -5.2763, -2.158 , -6.2191,  1.0985, -1.6264,  9.2215,\n",
                "       -2.7585, -8.1463, -3.577 ,  9.327 ,  3.1537, -8.927 , -7.7991,\n",
                "        3.9685,  6.8977, -0.5885, -3.385 , -4.1511, -2.0367, -0.6787,\n",
                "       -5.7387, -5.1329, -7.93  ,  4.1986, -8.9031, -5.6084,  8.7182,\n",
                "       -4.9393,  0.6498, 10.4736, -5.3009, -1.3893,  0.4611, -5.9066,\n",
                "        4.4444])"
            ],
            "outputs": [],
            "metadata": {}
        },
        {
            "cell_type": "code",
            "execution_count": null,
            "source": [
                "f = plt.figure(facecolor='white', figsize=(4,3), dpi=200 )\n",
                "ax1 = plt.subplot(111)\n",
                "\n",
                "ax1.errorbar(x_velocity, y_CC_value, yerr=y_CC_value_err, fmt='.', ms=5, lw=0.5)\n",
                "ax1.plot(x_velocity, y_CC_value, '.', ms=1)\n",
                "      \n",
                "ax1.tick_params(axis='both', which='both', labelsize='small', right=True, top=True, direction='in')   \n",
                "ax1.set_xlabel('Velocity [km/s]', size='medium', style='normal', family='sans-serif', fontname='Helvetica')\n",
                "ax1.set_ylabel('CC', size='medium', style='normal', family='sans-serif', fontname='Helvetica')\n",
                "\n",
                "\n",
                "plt.show()"
            ],
            "outputs": [],
            "metadata": {}
        }
    ],
    "metadata": {
        "orig_nbformat": 4,
        "language_info": {
            "name": "python",
            "version": "3.7.8",
            "mimetype": "text/x-python",
            "codemirror_mode": {
                "name": "ipython",
                "version": 3
            },
            "pygments_lexer": "ipython3",
            "nbconvert_exporter": "python",
            "file_extension": ".py"
        },
        "kernelspec": {
            "name": "python3",
            "display_name": "Python 3.7.8 64-bit ('base': conda)"
        },
        "interpreter": {
            "hash": "cb7cd84ea3cdf3ac0fe189395fa0b358ecca3de13b72fe17f3c14c2a97e9bf55"
        }
    },
    "nbformat": 4,
    "nbformat_minor": 2
}