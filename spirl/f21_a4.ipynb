{
 "cells": [
  {
   "cell_type": "markdown",
   "source": [
    "# SPIRL Fall 2021 Course -- Week 4 (Oct 12)\n",
    "\n",
    "Today's main topic is the **Monte Carlo (MC)**. But before we dive into that, \n",
    "we will need to learn something else first:\n",
    "\n",
    "1. Python Numpy Random Generator: `np.random.default_rng()`\n",
    "2. Plot histogram\n",
    "3. Monte Carlo -- Uncertainty Propagation\n",
    "4. Monte Carlo -- Bootstrapping\n",
    "\n",
    "## Readings (optional)\n",
    "\n",
    "If you find this week's material new or challenging, you may want to read through some or all the following resources while working on your assignment:\n",
    "\n",
    "- [SPIRL Ch. 3.6. Conditionals](https://cjtu.github.io/spirl/python_conditionals.html#conditionals)\n",
    "- [Numpy Random Generator](https://numpy.org/doc/stable/reference/random/generator.html)\n",
    "\n",
    "\n",
    "October 12, 2021\\\n",
    "Instructor: Shih-Yun Tang"
   ],
   "metadata": {}
  },
  {
   "cell_type": "code",
   "execution_count": 2,
   "source": [
    "import numpy as np\n",
    "import matplotlib.pyplot as plt"
   ],
   "outputs": [],
   "metadata": {}
  },
  {
   "cell_type": "markdown",
   "source": [
    "## Python Numpy Random Generator: `np.random.default_rng()`\n",
    "\n",
    "### The pseudorandom number generator (PRNG)\n",
    "It might sounds easy to come up with a random number, but, it is... really not the case.\n",
    "Even for human, there will always be some kind of bias of the \"random\" number you choose, \n",
    "not to mention that machine are deterministic. Thereofore, we use the\n",
    "**pseudorandom number generator (PRNG)** to help us do the job.\n",
    "\n",
    "See what Wikipedia tell us about the PRNG:\n",
    "> A pseudorandom number generator (PRNG), also known as a deterministic random bit generator (DRBG), is an algorithm for generating a sequence of numbers whose properties approximate the properties of sequences of random numbers. The PRNG-generated sequence is not truly random, because it is completely determined by an initial value, called the PRNG's seed (which may include truly random values).\n",
    "\n",
    "See more on [Pseudorandom number generator - Wikipedia](https://en.wikipedia.org/wiki/Pseudorandom_number_generator)\n",
    "\n",
    "### Numpy Random Generator\n",
    "\n",
    "In python, the Pseudorandom number generator used as default is the **PCG-64 pseudo-random number generator**. If you are interested, see more on [numpy.random.PCG64](https://numpy.org/doc/stable/reference/random/bit_generators/pcg64.html#numpy.random.PCG64).\n",
    "However, for now, if we want to generate any radom number, we can just use the default random number generator (`default_rng`). \n",
    "\n",
    "See what kind of random data can be draw from `default_rng` on [Simple random data](https://numpy.org/doc/stable/reference/random/generator.html#simple-random-data)"
   ],
   "metadata": {}
  },
  {
   "cell_type": "code",
   "execution_count": 3,
   "source": [
    "# Initiative the random number generator\n",
    "rng = np.random.default_rng()"
   ],
   "outputs": [],
   "metadata": {}
  },
  {
   "cell_type": "markdown",
   "source": [
    "Let's first try to genertae random intergers with\n",
    "\n",
    "```[note]\n",
    "...\n",
    "    integers(low, high=None, size=None, dtype=np.int64, endpoint=False)\n",
    "    \n",
    "    Return random integers from `low` (inclusive) to `high` (exclusive), or\n",
    "    if endpoint=True, `low` (inclusive) to `high` (inclusive). Replaces\n",
    "    `RandomState.randint` (with endpoint=False) and\n",
    "    `RandomState.random_integers` (with endpoint=True)\n",
    "    \n",
    "    Return random integers from the \"discrete uniform\" distribution of\n",
    "    the specified dtype. If `high` is None (the default), then results are\n",
    "    from 0 to `low`.\n",
    "...\n",
    "```"
   ],
   "metadata": {}
  },
  {
   "cell_type": "code",
   "execution_count": 4,
   "source": [
    "# Draw random intergers from the range `draw_range` `draw_times` times.\n",
    "draw_range = (0, 10)\n",
    "draw_times = 10\n",
    "\n",
    "random_ints = rng.integers(*draw_range, \n",
    "                            draw_times)\n",
    "\n",
    "print(random_ints)"
   ],
   "outputs": [
    {
     "output_type": "stream",
     "name": "stdout",
     "text": [
      "[0 7 2 4 8 6 9 0 4 8]\n"
     ]
    }
   ],
   "metadata": {}
  },
  {
   "cell_type": "markdown",
   "source": [
    "Now use `for` loop to run it many times to see if any is duplicated"
   ],
   "metadata": {}
  },
  {
   "cell_type": "code",
   "execution_count": 5,
   "source": [
    "for i in range(10):\n",
    "    rng = np.random.default_rng()\n",
    "    \n",
    "    random_ints = rng.integers(*draw_range, \n",
    "                                draw_times)\n",
    "    \n",
    "    print(f'run {i} give: ', random_ints)"
   ],
   "outputs": [
    {
     "output_type": "stream",
     "name": "stdout",
     "text": [
      "run 0 give:  [5 8 9 9 4 0 3 2 4 8]\n",
      "run 1 give:  [8 8 6 1 7 9 2 0 5 6]\n",
      "run 2 give:  [8 4 1 2 7 6 2 5 1 7]\n",
      "run 3 give:  [3 3 8 0 2 8 8 8 3 0]\n",
      "run 4 give:  [1 5 7 1 3 1 2 3 0 3]\n",
      "run 5 give:  [8 2 9 1 7 0 7 2 5 7]\n",
      "run 6 give:  [8 1 5 8 2 6 5 7 2 5]\n",
      "run 7 give:  [7 3 8 3 5 4 3 3 9 6]\n",
      "run 8 give:  [0 9 1 2 9 3 7 2 3 3]\n",
      "run 9 give:  [6 4 4 5 8 9 6 0 5 5]\n"
     ]
    }
   ],
   "metadata": {}
  },
  {
   "cell_type": "markdown",
   "source": [
    "But, as said in the beginning, the random numbers from the generator are not REAL random. \n",
    "They are generated based on a **seed** value.\n",
    "Therefore, as long as you know that seed, you can get your random number back.\n",
    "\n",
    "> However, might not be true between operating system or even different version of NumPy."
   ],
   "metadata": {}
  },
  {
   "cell_type": "code",
   "execution_count": 6,
   "source": [
    "draw_range = (0, 10)\n",
    "draw_times = 10\n",
    "seed = 100\n",
    " \n",
    "for i in range(10):\n",
    "    rng = np.random.default_rng(seed) # this time put in the seed value\n",
    "    \n",
    "    random_ints = rng.integers(*draw_range, \n",
    "                                draw_times)\n",
    "    \n",
    "    print(f'run {i} give: ', random_ints)"
   ],
   "outputs": [
    {
     "output_type": "stream",
     "name": "stdout",
     "text": [
      "run 0 give:  [7 8 1 5 0 2 4 0 5 9]\n",
      "run 1 give:  [7 8 1 5 0 2 4 0 5 9]\n",
      "run 2 give:  [7 8 1 5 0 2 4 0 5 9]\n",
      "run 3 give:  [7 8 1 5 0 2 4 0 5 9]\n",
      "run 4 give:  [7 8 1 5 0 2 4 0 5 9]\n",
      "run 5 give:  [7 8 1 5 0 2 4 0 5 9]\n",
      "run 6 give:  [7 8 1 5 0 2 4 0 5 9]\n",
      "run 7 give:  [7 8 1 5 0 2 4 0 5 9]\n",
      "run 8 give:  [7 8 1 5 0 2 4 0 5 9]\n",
      "run 9 give:  [7 8 1 5 0 2 4 0 5 9]\n"
     ]
    }
   ],
   "metadata": {}
  },
  {
   "cell_type": "markdown",
   "source": [
    "## Plot histogram with `plt.hist`\n",
    "\n",
    "```[note]\n",
    "hist(x, bins=None, range=None, density=None, weights=None, cumulative=False, bottom=None, histtype='bar', align='mid', orientation='vertical', rwidth=None, log=False, color=None, label=None, stacked=False, normed=None, *, data=None, **kwargs)\n",
    "    Plot a histogram.\n",
    "...\n",
    "    Returns\n",
    "    -------\n",
    "    n : array or list of arrays\n",
    "        The values of the histogram bins. See *density* and *weights* for a\n",
    "        description of the possible semantics.  If input *x* is an array,\n",
    "        then this is an array of length *nbins*. If input is a sequence of\n",
    "        arrays ``[data1, data2,..]``, then this is a list of arrays with\n",
    "        the values of the histograms for each of the arrays in the same\n",
    "        order.  The dtype of the array *n* (or of its element arrays) will\n",
    "        always be float even if no weighting or normalization is used.\n",
    "    \n",
    "    bins : array\n",
    "        The edges of the bins. Length nbins + 1 (nbins left edges and right\n",
    "        edge of last bin).  Always a single array even when multiple data\n",
    "        sets are passed in.\n",
    "    \n",
    "    patches : list or list of lists\n",
    "        Silent list of individual patches used to create the histogram\n",
    "        or list of such list if multiple input datasets.\n",
    "...\n",
    "```\n",
    "\n",
    "\n",
    "\n",
    "Let's try to verify if we truely get random values with the help of `plt.historgram`"
   ],
   "metadata": {}
  },
  {
   "cell_type": "code",
   "execution_count": 7,
   "source": [
    "def set_plot_axis_label(axes, xlabel, ylabel):\n",
    "    axes.tick_params(axis='both', which ='both', labelsize='small', right=True, top=True, direction='in')   \n",
    "    axes.set_xlabel(xlabel, size='medium', style='normal', family='sans-serif', fontname='Helvetica')\n",
    "    axes.set_ylabel(ylabel, size='medium', style='normal', family='sans-serif', fontname='Helvetica')"
   ],
   "outputs": [],
   "metadata": {}
  },
  {
   "cell_type": "code",
   "execution_count": 66,
   "source": [
    "# random number setup\n",
    "draw_range = (0, 10)\n",
    "draw_times = 1000000\n",
    "\n",
    "rng = np.random.default_rng()  \n",
    "random_ints = rng.integers(*draw_range, \n",
    "                            draw_times)\n",
    "\n",
    "# plotting\n",
    "f = plt.figure(facecolor='white', figsize=(4,3), dpi=150 )\n",
    "ax1 = f.subplots(1, 1)\n",
    "\n",
    "# default\n",
    "n, edges, _ = ax1.hist(random_ints, histtype='step')\n",
    "# a better way by constraining the edge of bins and the number of bins\n",
    "n, edges, _ = ax1.hist(random_ints, range = (-0.5, 9.5), bins=10, histtype='step')\n",
    "\n",
    "ax1.legend(fontsize='small')\n",
    "xlabel = 'random #'; ylabel = '#'\n",
    "set_plot_axis_label(ax1, xlabel, ylabel)"
   ],
   "outputs": [
    {
     "output_type": "stream",
     "name": "stderr",
     "text": [
      "No handles with labels found to put in legend.\n"
     ]
    },
    {
     "output_type": "display_data",
     "data": {
      "image/png": "[encoded data removed]",
      "text/plain": [
       "<Figure size 600x450 with 1 Axes>"
      ]
     },
     "metadata": {}
    }
   ],
   "metadata": {}
  },
  {
   "cell_type": "code",
   "execution_count": 60,
   "source": [
    "print(f'Number in each bins: {n}')\n",
    "print(f'Edges of each bin: {edges}')"
   ],
   "outputs": [
    {
     "output_type": "stream",
     "name": "stdout",
     "text": [
      "Number in each bins: [ 98. 101.  96.  96. 106. 107.  94. 100. 103.  99.]\n",
      "Edges of each bin: [-0.5  0.5  1.5  2.5  3.5  4.5  5.5  6.5  7.5  8.5  9.5]\n"
     ]
    }
   ],
   "metadata": {}
  },
  {
   "cell_type": "markdown",
   "source": [
    "Now, let's overplot these data points back to the histogram.\n",
    "But, before that, we need to find out the center values of the each bins.\n",
    "\n",
    "### [Short Quiz] Find the bin centers from `edges` array \n",
    "\n",
    "Try to code up some lines of code to turn\n",
    "```python\n",
    "edges = [-0.5  0.5  1.5  2.5  3.5  4.5  5.5  6.5  7.5  8.5  9.5]\n",
    "```\n",
    "into\n",
    "```python\n",
    "bin_center = [0, 1, 2, 3, 4, 5, 6, 7, 8, 9]\n",
    "```\n",
    "\n",
    "Apparently, simply type in the answer or just copy the list above is... cheating..."
   ],
   "metadata": {}
  },
  {
   "cell_type": "code",
   "execution_count": null,
   "source": [
    "# put you code here, you have 5 mins\n"
   ],
   "outputs": [],
   "metadata": {}
  },
  {
   "cell_type": "code",
   "execution_count": 61,
   "source": [
    "# Answer 1 -- using the for loop\n",
    "\n",
    "bin_center = []\n",
    "for i in range(len(edges)-1):\n",
    "    \n",
    "    bin_center.append(\n",
    "        (edges[i] + edges[i+1]) / 2\n",
    "    )\n",
    "\n",
    "print(bin_center)  "
   ],
   "outputs": [
    {
     "output_type": "stream",
     "name": "stdout",
     "text": [
      "[0.0, 1.0, 2.0, 3.0, 4.0, 5.0, 6.0, 7.0, 8.0, 9.0]\n"
     ]
    }
   ],
   "metadata": {}
  },
  {
   "cell_type": "markdown",
   "source": [
    "### List comprehension\n",
    "\n",
    "Creating a list with `for` loop in it.\n",
    "It is hard to explain... so let's just see some an example:"
   ],
   "metadata": {}
  },
  {
   "cell_type": "code",
   "execution_count": 62,
   "source": [
    "a_list = [1, 2, 3, 4, 5, 6, 7, 8]\n",
    "\n",
    "a_plus_1_list = [i+1 for i in a_list]\n",
    "print(a_plus_1_list)"
   ],
   "outputs": [
    {
     "output_type": "stream",
     "name": "stdout",
     "text": [
      "[2, 3, 4, 5, 6, 7, 8, 9]\n"
     ]
    }
   ],
   "metadata": {}
  },
  {
   "cell_type": "code",
   "execution_count": 63,
   "source": [
    "# Answer 2 -- using the list comprehension\n",
    "\n",
    "bin_center = [(edges[i] + edges[i+1]) / 2 for i in range(len(edges)-1)]\n",
    "print(bin_center)  "
   ],
   "outputs": [
    {
     "output_type": "stream",
     "name": "stdout",
     "text": [
      "[0.0, 1.0, 2.0, 3.0, 4.0, 5.0, 6.0, 7.0, 8.0, 9.0]\n"
     ]
    }
   ],
   "metadata": {}
  },
  {
   "cell_type": "code",
   "execution_count": 64,
   "source": [
    "# Answer 3 -- array slicing (recommended)\n",
    "\n",
    "bin_center = (edges[:-1] + edges[1:])/2\n",
    "print(bin_center) "
   ],
   "outputs": [
    {
     "output_type": "stream",
     "name": "stdout",
     "text": [
      "[0. 1. 2. 3. 4. 5. 6. 7. 8. 9.]\n"
     ]
    }
   ],
   "metadata": {}
  },
  {
   "cell_type": "code",
   "execution_count": 65,
   "source": [
    "# random number setup\n",
    "draw_range = (0, 10)\n",
    "draw_times = 1000\n",
    "\n",
    "rng = np.random.default_rng()       # this time put in the seed value    \n",
    "random_ints = rng.integers(*draw_range, \n",
    "                            draw_times)\n",
    "\n",
    "# plotting\n",
    "f = plt.figure(facecolor='white', figsize=(4,3), dpi=150 )\n",
    "ax1 = f.subplots(1, 1)\n",
    "\n",
    "# plot the histogram\n",
    "n, edges, _ = ax1.hist(random_ints, range = (-0.5, 9.5), bins=10, histtype='step')\n",
    "\n",
    "bin_center = (edges[:-1] + edges[1:])/2\n",
    "ax1.plot(bin_center, n, '.', ms=3, c='tab:red')\n",
    "\n",
    "xlabel = 'random #'; ylabel = '#'\n",
    "set_plot_axis_label(ax1, xlabel, ylabel)"
   ],
   "outputs": [
    {
     "output_type": "display_data",
     "data": {
      "image/png": "[encoded data removed]",
      "text/plain": [
       "<Figure size 600x450 with 1 Axes>"
      ]
     },
     "metadata": {}
    }
   ],
   "metadata": {}
  },
  {
   "cell_type": "markdown",
   "source": [
    "## Python Numpy Random Generator -- random draw from a model distrbution\n",
    "\n",
    "See what kind of distrebution can Numpy Random Generator draw from:\n",
    "[Distributions](https://numpy.org/doc/stable/reference/random/generator.html#distributions)\n",
    "\n",
    "Below we will do the demo with the normal (Gaussian) distrbution.\n",
    "\n",
    "```[note]\n",
    "normal(...) method of numpy.random._generator.Generator instance\n",
    "    normal(loc=0.0, scale=1.0, size=None)\n",
    "    \n",
    "    Draw random samples from a normal (Gaussian) distribution.\n",
    "    \n",
    "    Parameters\n",
    "    ----------\n",
    "    loc : float or array_like of floats\n",
    "        Mean (\"centre\") of the distribution.\n",
    "    scale : float or array_like of floats\n",
    "        Standard deviation (spread or \"width\") of the distribution. Must be\n",
    "        non-negative.\n",
    "    size : int or tuple of ints, optional\n",
    "        Output shape.  If the given shape is, e.g., ``(m, n, k)``, then\n",
    "        ``m * n * k`` samples are drawn.  If size is ``None`` (default),\n",
    "        a single value is returned if ``loc`` and ``scale`` are both scalars.\n",
    "        Otherwise, ``np.broadcast(loc, scale).size`` samples are drawn.\n",
    "...\n",
    "```"
   ],
   "metadata": {}
  },
  {
   "cell_type": "code",
   "execution_count": 14,
   "source": [
    "# random number setup\n",
    "draw_mean_std = (10, 0.2)\n",
    "draw_times = 10\n",
    "\n",
    "rng = np.random.default_rng()\n",
    "nor_distrbution_array = rng.normal(*draw_mean_std,\n",
    "                                    draw_times)\n",
    "\n",
    "print(nor_distrbution_array)"
   ],
   "outputs": [
    {
     "output_type": "stream",
     "name": "stdout",
     "text": [
      "[ 9.89819495  9.60360784 10.4207092  10.11347965  9.93005851 10.24416547\n",
      " 10.44233921 10.03495739  9.75492237 10.13622546]\n"
     ]
    }
   ],
   "metadata": {}
  },
  {
   "cell_type": "code",
   "execution_count": 69,
   "source": [
    "# random number setup\n",
    "draw_mean_std = (10, 0.2)\n",
    "draw_times = 1000000\n",
    "\n",
    "rng = np.random.default_rng()\n",
    "nor_distrbution_array = rng.normal(*draw_mean_std,\n",
    "                                    draw_times)\n",
    "\n",
    "# plotting \n",
    "f = plt.figure(facecolor='white', figsize=(4,3), dpi=150 )\n",
    "ax = f.subplots(1, 1)\n",
    "\n",
    "n, edges, _ = ax.hist(nor_distrbution_array, histtype='step', range=(9, 11), bins=100)\n",
    "\n",
    "xlabel = 'random numbers'\n",
    "ylabel = 'numbers'\n",
    "set_plot_axis_label(ax, xlabel, ylabel)"
   ],
   "outputs": [
    {
     "output_type": "display_data",
     "data": {
      "image/png": "[encoded data removed]",
      "text/plain": [
       "<Figure size 600x450 with 1 Axes>"
      ]
     },
     "metadata": {}
    }
   ],
   "metadata": {}
  },
  {
   "cell_type": "markdown",
   "source": [
    "## Monte Carlo -- Uncertainty (error) Propagation\n",
    "\n",
    "Simple error propagation can be done quickly by hand with equations below:\n",
    "\n",
    "![Uncertainty Propagation](http://science.clemson.edu/physics/labs/tutorials/errorp/eptable.gif)\n",
    "\n",
    "(from Clemson University)\n",
    "\n",
    "But, what if you have something like\n",
    "$$\n",
    "\\rho = \\frac{m}{V} = \\frac{m}{\\pi r^2 (h/3)} = \\frac{3m}{\\pi r^2 h}\n",
    "$$\n",
    "How fast can you get the error of the density ($\\rho$) propagated from errors of $m$, $r$, and $h$?\n",
    "\n",
    "|                 | units | values | uncertainty ($\\sigma$) |\n",
    "|-----------------|:-----:|:------:|:----------------------:|\n",
    "| Mass (m)        |   g   |  55.5  |          4.52          |\n",
    "| Cone radius (r) |   cm  |  14.2  |          1.11          |\n",
    "| Cone height (h) |   cm  |   9.9  |          0.59          |\n",
    "\n",
    "modified from [Steve Spicklemire's youtube video](https://www.youtube.com/watch?v=V4U6RFI6HW8&t=298s)\n",
    "\n",
    "Before we try out the MC error propagation on the density function, let's start with something simple:\n",
    "$$\n",
    "c = a + b\n",
    "$$\n",
    "where $a = 5.5 \\pm 0.22$, and $b = 7.8 \\pm 2.54$. We can get the uncertainty of $c$ via \n",
    "the normal way by using the equation above:"
   ],
   "metadata": {}
  },
  {
   "cell_type": "code",
   "execution_count": 83,
   "source": [
    "c_unc = np.sqrt(0.22**2 + 2.54**2)\n",
    "\n",
    "print(f'The c value has an uncertainty of {c_unc:1.3f}')"
   ],
   "outputs": [
    {
     "output_type": "stream",
     "name": "stdout",
     "text": [
      "The c value has an uncertainty of 2.550\n"
     ]
    }
   ],
   "metadata": {}
  },
  {
   "cell_type": "markdown",
   "source": [
    "However, if to do it using the MC method...\n",
    "\n",
    "Usually, when the parameter, say $a$, only come with one uncertainty value, that uncertainty is considered \n",
    "as a Gaussian noise, i.e., the standard deviation (std). Therefore, with the mean and the std of $a$, we \n",
    "can reconstruct the underlying profile of $a$. By randomly draw new values of $a$ based on the Gaussian \n",
    "distribution, we get all possible values of $a$!\n",
    "\n",
    "If you are still confused, think about how do we normally get the mean and the std for a value? We do lots\n",
    "of measurements of it and then calculate their mean and std, right? So, the Gaussian distribution we reconstructed\n",
    "from teh mean and the std are just helping us generating those **measurements**.\n",
    "\n",
    "By generating lots, say 1000, of random possible values of $a$ and $b$, we can get \n",
    "go through the calculation of all 1000 sets of them and get 1000 of $c$ values.\n",
    "And now, we just need to calculate the std of those 1000 $c$, we get the uncertainty of $c$!"
   ],
   "metadata": {}
  },
  {
   "cell_type": "code",
   "execution_count": 84,
   "source": [
    "draw_times = 100\n",
    "rng = np.random.default_rng()\n",
    "\n",
    "a_mc_array = rng.normal(5.5, 0.22, draw_times)\n",
    "b_mc_array = rng.normal(7.8, 2.54, draw_times)\n",
    "\n",
    "\n",
    "c_mc_array = a_mc_array + b_mc_array\n",
    "c_unc_mc = np.std(c_mc_array)\n",
    "print(f'The c value has an uncertainty of {c_unc_mc:1.3f}')"
   ],
   "outputs": [
    {
     "output_type": "stream",
     "name": "stdout",
     "text": [
      "The c value has an uncertainty of 2.780\n"
     ]
    }
   ],
   "metadata": {}
  },
  {
   "cell_type": "markdown",
   "source": [
    "The larger the draw_times you use, the more stable the c_unc_mc can be.\n",
    "\n",
    "Let's write up some code to see what draw_times we need to get stable c_unc_mc.\n",
    "Let's day stable means the difference of c_unc_mc between two number of draws is \n",
    "$<$ 1e-6 for now."
   ],
   "metadata": {}
  },
  {
   "cell_type": "code",
   "execution_count": 86,
   "source": [
    "c_unc_mc_old = 0\n",
    "\n",
    "for draw_times in np.arange(100, 1000000, 1000):\n",
    "    a_mc_array = rng.normal(5.5, 0.22, draw_times)\n",
    "    b_mc_array = rng.normal(7.8, 2.54, draw_times)\n",
    "\n",
    "    c_mc_array = a_mc_array + b_mc_array\n",
    "    c_unc_mc_new = np.std(c_mc_array)\n",
    "    \n",
    "    if c_unc_mc_old == 0:\n",
    "        c_unc_mc_old = c_unc_mc_new\n",
    "    else:\n",
    "        differ = np.abs(c_unc_mc_old - c_unc_mc_new)\n",
    "        print('\\r', f'draw_times of {draw_times} give differ of {differ:1.7f}', end = '')\n",
    "        \n",
    "        if differ < 1e-6: break\n",
    "        \n",
    "    c_unc_mc_old = c_unc_mc_new\n",
    "\n",
    "print(f'\\n The uncertainty of c is about: {c_unc_mc_new:1.3f}')\n",
    "    "
   ],
   "outputs": [
    {
     "output_type": "stream",
     "name": "stdout",
     "text": [
      " draw_times of 999100 give differ of 0.0039181\n",
      " The uncertainty of c is about: 2.546\n"
     ]
    }
   ],
   "metadata": {}
  },
  {
   "cell_type": "markdown",
   "source": [
    "## [Challenge assignment] \n",
    "\n",
    "1. Find a better/faster way to reach a stable `c_unc_mc` value\n",
    "2. Use a more strict stable condition: `differ < 1e-6` must meet for 10 consecutive `draw_times`"
   ],
   "metadata": {}
  },
  {
   "cell_type": "markdown",
   "source": [
    "### [Hands-on] Get the uncertainty for $c$\n",
    "\n",
    "$$\n",
    "\\rho = \\frac{m}{V} = \\frac{m}{\\pi r^2 (h/3)} = \\frac{3m}{\\pi r^2 h}\n",
    "$$\n",
    "\n",
    "|                 | units | values | uncertainty ($\\sigma$) |\n",
    "|-----------------|:-----:|:------:|:----------------------:|\n",
    "| Mass (m)        |   g   |  55.5  |          4.52          |\n",
    "| Cone radius (r) |   cm  |  14.2  |          1.11          |\n",
    "| Cone height (h) |   cm  |   9.9  |          0.59          |\n"
   ],
   "metadata": {}
  },
  {
   "cell_type": "code",
   "execution_count": 19,
   "source": [
    "# [your code here]"
   ],
   "outputs": [],
   "metadata": {}
  },
  {
   "cell_type": "markdown",
   "source": [
    "## Monte Carlo -- Bootstrapping\n",
    "\n",
    "Modified from [Introduction to Statistical Methodology, Second Edition Chaper 3](https://bookdown.org/dereksonderegger/570/3-confidence-intervals-via-bootstrapping.html)"
   ],
   "metadata": {}
  },
  {
   "cell_type": "code",
   "execution_count": 21,
   "source": [
    "import pandas as pd\n",
    "df = pd.read_csv('https://www.lock5stat.com/datasets3e/FloridaLakes.csv')\n",
    "AvgMercury = df['AvgMercury'].to_numpy()"
   ],
   "outputs": [],
   "metadata": {}
  },
  {
   "cell_type": "code",
   "execution_count": 22,
   "source": [
    "# plotting \n",
    "f = plt.figure(facecolor='white', figsize=(4,3), dpi=150 )\n",
    "ax = f.subplots(1, 1)\n",
    "\n",
    "ax.hist(AvgMercury, histtype='step', range=(0, np.max(AvgMercury)), bins=10)\n",
    "\n",
    "xlabel = 'Avgmercury'; ylabel = 'numbers'\n",
    "set_plot_axis_label(ax, xlabel, ylabel)\n",
    "ax.set_title('Mercury level in Florida Lakes', size='medium', fontname='Helvetica')"
   ],
   "outputs": [
    {
     "output_type": "execute_result",
     "data": {
      "text/plain": [
       "Text(0.5, 1.0, 'Mercury level in Florida Lakes')"
      ]
     },
     "metadata": {},
     "execution_count": 22
    },
    {
     "output_type": "display_data",
     "data": {
      "image/png": "[encoded data removed]",
      "text/plain": [
       "<Figure size 600x450 with 1 Axes>"
      ]
     },
     "metadata": {}
    }
   ],
   "metadata": {}
  },
  {
   "cell_type": "code",
   "execution_count": 40,
   "source": [
    "# Based on the plot above, are we sure that the mean mercury amount in Florida \n",
    "# is just by taken the mean of AvgMercury?\n",
    "# what are the uncertainties?\n",
    "\n",
    "print(f'The mean mercury amount in Florida is {np.mean(AvgMercury):1.2f}')"
   ],
   "outputs": [
    {
     "output_type": "stream",
     "name": "stdout",
     "text": [
      "The mean mercury amount in Florida is 0.53\n"
     ]
    }
   ],
   "metadata": {}
  },
  {
   "cell_type": "markdown",
   "source": [
    "To prvent this kind of small number ststistic, we need the help of Bootstrapping.\n",
    "Here we need to use `rng.choice()`\n",
    "\n",
    "```[note]\n",
    "choice(...) method of numpy.random._generator.Generator instance\n",
    "    choice(a, size=None, replace=True, p=None, axis=0, shuffle=True)\n",
    "    \n",
    "    Generates a random sample from a given array\n",
    "    \n",
    "    Parameters\n",
    "    ----------\n",
    "    a : {array_like, int}\n",
    "        If an ndarray, a random sample is generated from its elements.\n",
    "        If an int, the random sample is generated from np.arange(a).\n",
    "    size : {int, tuple[int]}, optional\n",
    "        Output shape.  If the given shape is, e.g., ``(m, n, k)``, then\n",
    "        ``m * n * k`` samples are drawn from the 1-d `a`. If `a` has more\n",
    "        than one dimension, the `size` shape will be inserted into the\n",
    "        `axis` dimension, so the output ``ndim`` will be ``a.ndim - 1 +\n",
    "        len(size)``. Default is None, in which case a single value is\n",
    "        returned.\n",
    "    replace : bool, optional\n",
    "        Whether the sample is with or without replacement. Default is True,\n",
    "        meaning that a value of ``a`` can be selected multiple times.\n",
    "    p : 1-D array_like, optional\n",
    "        The probabilities associated with each entry in a.\n",
    "        If not given, the sample assumes a uniform distribution over all\n",
    "        entries in ``a``.\n",
    "...\n",
    "```"
   ],
   "metadata": {}
  },
  {
   "cell_type": "code",
   "execution_count": 41,
   "source": [
    "rng = np.random.default_rng()\n",
    "a_mc_array = rng.choice(AvgMercury, len(AvgMercury))\n",
    "print(a_mc_array)"
   ],
   "outputs": [
    {
     "output_type": "stream",
     "name": "stdout",
     "text": [
      "[1.08 0.04 0.73 0.34 0.34 0.87 0.98 0.05 0.27 0.17 1.08 0.05 0.56 1.23\n",
      " 0.27 1.16 0.83 0.59 0.5  0.04 0.27 0.18 0.25 0.19 0.56 0.49 0.87 1.2\n",
      " 0.49 0.17 0.49 0.49 0.5  0.04 0.25 1.33 0.43 0.81 0.04 0.34 0.44 0.27\n",
      " 0.84 0.83 0.05 1.1  0.59 0.34 0.34 0.98 0.43 0.63 0.98]\n"
     ]
    }
   ],
   "metadata": {}
  },
  {
   "cell_type": "code",
   "execution_count": 57,
   "source": [
    "# plotting \n",
    "f = plt.figure(facecolor='white', figsize=(4,3), dpi=150 )\n",
    "ax = f.subplots(1, 1)\n",
    "\n",
    "ax.hist(AvgMercury, histtype='step', range=(0, np.max(AvgMercury)), bins=10, \n",
    "        color='black')\n",
    "\n",
    "ax.axvline(np.mean(AvgMercury), lw=1, color='black', ls='--')\n",
    "\n",
    "# random draw result\n",
    "a_mc_array = rng.choice(AvgMercury, len(AvgMercury))\n",
    "\n",
    "ax.hist(a_mc_array, histtype='step', range=(0, np.max(AvgMercury)), bins=10,\n",
    "        color='tab:red')\n",
    "ax.axvline(np.mean(a_mc_array), lw=1, color='tab:red', ls='--')\n",
    "\n",
    "xlabel = 'Avgmercury'; ylabel = 'numbers'\n",
    "set_plot_axis_label(ax, xlabel, ylabel)\n",
    "ax.set_title('Mercury level in Florida Lakes', size='medium', fontname='Helvetica')"
   ],
   "outputs": [
    {
     "output_type": "execute_result",
     "data": {
      "text/plain": [
       "Text(0.5, 1.0, 'Mercury level in Florida Lakes')"
      ]
     },
     "metadata": {},
     "execution_count": 57
    },
    {
     "output_type": "display_data",
     "data": {
      "image/png": "[encoded data removed]",
      "text/plain": [
       "<Figure size 600x450 with 1 Axes>"
      ]
     },
     "metadata": {}
    }
   ],
   "metadata": {}
  },
  {
   "cell_type": "code",
   "execution_count": 26,
   "source": [
    "# plotting \n",
    "f = plt.figure(facecolor='white', figsize=(4,3), dpi=150 )\n",
    "ax = f.subplots(1, 1)\n",
    "\n",
    "ax.axvline(np.mean(AvgMercury), lw=1, color='black', ls='--')\n",
    "\n",
    "# random draw result\n",
    "sample_times = 100000\n",
    "\n",
    "mean_collection = []\n",
    "for _ in range(sample_times): \n",
    "        a_mc_array = rng.choice(AvgMercury, len(AvgMercury))\n",
    "        mean_collection.append(np.mean(a_mc_array))\n",
    "\n",
    "ax.hist(mean_collection, histtype='step', color='tab:red', bins=50)\n",
    "\n",
    "\n",
    "xlabel = 'Avgmercury'; ylabel = 'numbers'\n",
    "set_plot_axis_label(ax, xlabel, ylabel)\n",
    "ax.set_title('Mercury level in Florida Lakes', size='medium', fontname='Helvetica')"
   ],
   "outputs": [
    {
     "output_type": "execute_result",
     "data": {
      "text/plain": [
       "Text(0.5, 1.0, 'Mercury level in Florida Lakes')"
      ]
     },
     "metadata": {},
     "execution_count": 26
    },
    {
     "output_type": "display_data",
     "data": {
      "image/png": "[encoded data removed]",
      "text/plain": [
       "<Figure size 600x450 with 1 Axes>"
      ]
     },
     "metadata": {}
    }
   ],
   "metadata": {}
  },
  {
   "cell_type": "code",
   "execution_count": 58,
   "source": [
    "print(f'mean: {np.mean(mean_collection):1.2f}')\n",
    "print(f'std: {np.std(mean_collection):1.2f}')\n",
    "\n",
    "print(f'50 %: {np.percentile(mean_collection, 50):1.2f}')\n",
    "print(f'16 %: {np.percentile(mean_collection, 16):1.2f}')\n",
    "print(f'84 %: {np.percentile(mean_collection, 84):1.2f}')"
   ],
   "outputs": [
    {
     "output_type": "stream",
     "name": "stdout",
     "text": [
      "mean: 0.53\n",
      "std: 0.05\n",
      "50 %: 0.53\n",
      "16 %: 0.48\n",
      "84 %: 0.57\n"
     ]
    }
   ],
   "metadata": {}
  },
  {
   "cell_type": "markdown",
   "source": [
    "## [Assignment] What's the value for $\\pi$?\n",
    "\n",
    "In this assignment, you will need to use the MC method to estimate the values of $\\pi$.\n",
    "\n",
    "Assuming you have a quarter circle with the radius of 1 and a square that share it's edge with the quarter circle's \n",
    "radius (see the plot below). \n",
    "\n",
    "![Monte-Carlo pi](https://helloacm.com/wp-content/uploads/2015/11/Monte-Carlo01.jpg)\n",
    "\n",
    "Therefore, we know:\n",
    "$$\n",
    "Area_{\\rm quarter\\ circle} = \\pi r^2/4 \\\\\n",
    "Area_{\\rm square} = r^2\n",
    "$$\n",
    "The ratio of the two will be\n",
    "$$\n",
    "\\frac{Area_{\\rm quarter\\ circle}}{Area_{\\rm square}} = \\frac{\\pi r^2/4}{r^2} = \\frac{\\pi}{4}\n",
    "$$\n",
    "Rearange the equation and changes the area with the number of points we have:\n",
    "$$\n",
    "\\pi = 4 \\frac{Area_{\\rm quarter\\ circle}}{Area_{\\rm square}} = 4 \\frac{N_{\\rm quarter\\ circle}}{N_{\\rm square}}\n",
    "$$\n",
    "where $N_{\\rm quarter\\ circle}$ is the number of points within the quarter circle and $N_{\\rm square}$ is the number of points\n",
    "within the square.\n",
    "\n",
    "Tips:\n",
    "1. You will need to generate two arrays with the random generator as the x and y axis of each points.\n",
    "2. Calculate the number of points within the quarter circl and within the square\n",
    "3. You get $\\pi$ values by divide the two numbers and times 4\n",
    "\n",
    "**Show that your $\\pi$ has $< 1e-15$ difference from `np.pi`**"
   ],
   "metadata": {}
  },
  {
   "cell_type": "code",
   "execution_count": 28,
   "source": [
    "# [your code here]"
   ],
   "outputs": [],
   "metadata": {}
  }
 ],
 "metadata": {
  "orig_nbformat": 4,
  "language_info": {
   "name": "python",
   "version": "3.7.8",
   "mimetype": "text/x-python",
   "codemirror_mode": {
    "name": "ipython",
    "version": 3
   },
   "pygments_lexer": "ipython3",
   "nbconvert_exporter": "python",
   "file_extension": ".py"
  },
  "kernelspec": {
   "name": "python3",
   "display_name": "Python 3.7.8 64-bit ('base': conda)"
  },
  "interpreter": {
   "hash": "cb7cd84ea3cdf3ac0fe189395fa0b358ecca3de13b72fe17f3c14c2a97e9bf55"
  }
 },
 "nbformat": 4,
 "nbformat_minor": 2
}