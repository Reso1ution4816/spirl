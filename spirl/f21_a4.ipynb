{
 "cells": [
  {
   "cell_type": "markdown",
   "source": [
    "# Assignment 4 (Oct 12)\n",
    "\n",
    "Today's main topic is the **Monte Carlo (MC)**. But before we dive into that, \n",
    "we will need to learn something else first:\n",
    "\n",
    "1. Python Numpy Random Generator: `np.random.default_rng()`\n",
    "2. Plot histogram\n",
    "3. Monte Carlo -- Uncertainty Propagation\n",
    "4. Monte Carlo -- Bootstrapping\n",
    "\n",
    "## Readings (optional)\n",
    "\n",
    "If you find this week's material new or challenging, you may want to read through some or all the following resources while working on your assignment:\n",
    "\n",
    "- [SPIRL Ch. 3.6. Conditionals](https://cjtu.github.io/spirl/python_conditionals.html#conditionals)\n",
    "- [Numpy Random Generator](https://numpy.org/doc/stable/reference/random/generator.html)\n"
   ],
   "metadata": {}
  },
  {
   "cell_type": "code",
   "execution_count": null,
   "source": [
    "import numpy as np\n",
    "import matplotlib.pyplot as plt"
   ],
   "outputs": [],
   "metadata": {}
  },
  {
   "cell_type": "markdown",
   "source": [
    "## Python Numpy Random Generator: `np.random.default_rng()`\n",
    "\n",
    "### The pseudorandom number generator (PRNG)\n",
    "It might sounds easy to come up with a random number, but, it is... really not the case.\n",
    "Even for human, there will always be some kind of bias of the \"random\" number you choose, \n",
    "not to mention that machine are deterministic. Thereofore, we use the\n",
    "**pseudorandom number generator (PRNG)** to help us do the job.\n",
    "\n",
    "See what Wikipedia tell us about the PRNG:\n",
    "> A pseudorandom number generator (PRNG), also known as a deterministic random bit generator (DRBG), is an algorithm for generating a sequence of numbers whose properties approximate the properties of sequences of random numbers. The PRNG-generated sequence is not truly random, because it is completely determined by an initial value, called the PRNG's seed (which may include truly random values).\n",
    "\n",
    "See more on [Pseudorandom number generator - Wikipedia](https://en.wikipedia.org/wiki/Pseudorandom_number_generator)\n",
    "\n",
    "### Numpy Random Generator\n",
    "\n",
    "In python, the Pseudorandom number generator used as default is the **PCG-64 pseudo-random number generator**. If you are interested, see more on [numpy.random.PCG64](https://numpy.org/doc/stable/reference/random/bit_generators/pcg64.html#numpy.random.PCG64).\n",
    "However, for now, if we want to generate any radom number, we can just use the default random number generator (`default_rng`). \n",
    "\n",
    "See what kind of random data can be draw from `default_rng` on [Simple random data](https://numpy.org/doc/stable/reference/random/generator.html#simple-random-data)"
   ],
   "metadata": {}
  },
  {
   "cell_type": "code",
   "execution_count": null,
   "source": [
    "# Initiative the random number generator\n",
    "rng = np.random.default_rng()"
   ],
   "outputs": [],
   "metadata": {}
  },
  {
   "cell_type": "markdown",
   "source": [
    "Let's first try to genertae random intergers with\n",
    "\n",
    "```[note]\n",
    "...\n",
    "    integers(low, high=None, size=None, dtype=np.int64, endpoint=False)\n",
    "    \n",
    "    Return random integers from `low` (inclusive) to `high` (exclusive), or\n",
    "    if endpoint=True, `low` (inclusive) to `high` (inclusive). Replaces\n",
    "    `RandomState.randint` (with endpoint=False) and\n",
    "    `RandomState.random_integers` (with endpoint=True)\n",
    "    \n",
    "    Return random integers from the \"discrete uniform\" distribution of\n",
    "    the specified dtype. If `high` is None (the default), then results are\n",
    "    from 0 to `low`.\n",
    "...\n",
    "```"
   ],
   "metadata": {}
  },
  {
   "cell_type": "code",
   "execution_count": null,
   "source": [
    "# Draw random intergers from the range `draw_range` `draw_times` times.\n",
    "draw_range = (0, 10)\n",
    "draw_times = 10\n",
    "\n",
    "random_ints = rng.integers(*draw_range, \n",
    "                            draw_times)\n",
    "\n",
    "print(random_ints)"
   ],
   "outputs": [],
   "metadata": {}
  },
  {
   "cell_type": "markdown",
   "source": [
    "Now use `for` loop to run it many times to see if any is duplicated"
   ],
   "metadata": {}
  },
  {
   "cell_type": "code",
   "execution_count": null,
   "source": [
    "for i in range(10):\n",
    "    rng = np.random.default_rng()\n",
    "    \n",
    "    random_ints = rng.integers(*draw_range, \n",
    "                                draw_times)\n",
    "    \n",
    "    print(f'run {i} give: ', random_ints)"
   ],
   "outputs": [],
   "metadata": {}
  },
  {
   "cell_type": "markdown",
   "source": [
    "But, as sain in the beginng that our random numbers are NOT random. The random numbers are generated based on a **seed** value."
   ],
   "metadata": {}
  },
  {
   "cell_type": "code",
   "execution_count": null,
   "source": [
    "draw_range = (0, 10)\n",
    "draw_times = 10\n",
    "seed = 100\n",
    " \n",
    "for i in range(10):\n",
    "    rng = np.random.default_rng(seed)       # this time put in the seed value\n",
    "    \n",
    "    random_ints = rng.integers(*draw_range, \n",
    "                                draw_times)\n",
    "    \n",
    "    print(f'run {i} give: ', random_ints)"
   ],
   "outputs": [],
   "metadata": {}
  },
  {
   "cell_type": "markdown",
   "source": [
    "## Plot histogram with `plt.hist`\n",
    "\n",
    "```[note]\n",
    "hist(x, bins=None, range=None, density=None, weights=None, cumulative=False, bottom=None, histtype='bar', align='mid', orientation='vertical', rwidth=None, log=False, color=None, label=None, stacked=False, normed=None, *, data=None, **kwargs)\n",
    "    Plot a histogram.\n",
    "...\n",
    "    Returns\n",
    "    -------\n",
    "    n : array or list of arrays\n",
    "        The values of the histogram bins. See *density* and *weights* for a\n",
    "        description of the possible semantics.  If input *x* is an array,\n",
    "        then this is an array of length *nbins*. If input is a sequence of\n",
    "        arrays ``[data1, data2,..]``, then this is a list of arrays with\n",
    "        the values of the histograms for each of the arrays in the same\n",
    "        order.  The dtype of the array *n* (or of its element arrays) will\n",
    "        always be float even if no weighting or normalization is used.\n",
    "    \n",
    "    bins : array\n",
    "        The edges of the bins. Length nbins + 1 (nbins left edges and right\n",
    "        edge of last bin).  Always a single array even when multiple data\n",
    "        sets are passed in.\n",
    "    \n",
    "    patches : list or list of lists\n",
    "        Silent list of individual patches used to create the histogram\n",
    "        or list of such list if multiple input datasets.\n",
    "...\n",
    "```\n",
    "\n",
    "\n",
    "\n",
    "Let's try to verify if we truely get random values with the help of `plt.historgram`"
   ],
   "metadata": {}
  },
  {
   "cell_type": "code",
   "execution_count": null,
   "source": [
    "def set_plot_axis_label(axes, xlabel, ylabel):\n",
    "    axes.tick_params(axis='both', which ='both', labelsize='small', right=True, top=True, direction='in')   \n",
    "    axes.set_xlabel(xlabel, size='medium', style='normal', family='sans-serif', fontname='Helvetica')\n",
    "    axes.set_ylabel(ylabel, size='medium', style='normal', family='sans-serif', fontname='Helvetica')"
   ],
   "outputs": [],
   "metadata": {}
  },
  {
   "cell_type": "code",
   "execution_count": null,
   "source": [
    "# random number setup\n",
    "draw_range = (0, 10)\n",
    "draw_times = 100\n",
    "\n",
    "rng = np.random.default_rng()       # this time put in the seed value    \n",
    "random_ints = rng.integers(*draw_range, \n",
    "                            draw_times)\n",
    "\n",
    "# plotting\n",
    "f = plt.figure(facecolor='white', figsize=(4,3), dpi=200 )\n",
    "ax1 = f.subplots(1, 1)\n",
    "\n",
    "# default\n",
    "n, edges, _ = ax1.hist(random_ints, histtype='step')\n",
    "# a better one\n",
    "n, edges, _ = ax1.hist(random_ints, range = (-0.5, 9.5), bins=10, histtype='step')\n",
    "\n",
    "\n",
    "ax1.legend(fontsize='small')\n",
    "xlabel = 'random #'; ylabel = '#'\n",
    "set_plot_axis_label(ax1, xlabel, ylabel)"
   ],
   "outputs": [],
   "metadata": {}
  },
  {
   "cell_type": "code",
   "execution_count": null,
   "source": [
    "print(n)\n",
    "print(edges)"
   ],
   "outputs": [],
   "metadata": {}
  },
  {
   "cell_type": "markdown",
   "source": [
    "Now, let's overplot these data points back to the histogram.\n",
    "But, we fist need to find the ceneter values of the edges...\n",
    "\n",
    "Turn\n",
    "```python\n",
    "edges = [-0.5  0.5  1.5  2.5  3.5  4.5  5.5  6.5  7.5  8.5  9.5]\n",
    "```\n",
    "to\n",
    "```python\n",
    "bin_center = [0, 1, 2, 3, 4, 5, 6, 7, 8, 9]\n",
    "```\n",
    "\n",
    "### [Hands-on] Generate the `bin_center` array \n",
    "Appaently, type in or just copy the list above is cheating..."
   ],
   "metadata": {}
  },
  {
   "cell_type": "code",
   "execution_count": null,
   "source": [
    "# put you code here, you have 5 mins~"
   ],
   "outputs": [],
   "metadata": {}
  },
  {
   "cell_type": "code",
   "execution_count": null,
   "source": [
    "# random number setup\n",
    "draw_range = (0, 10)\n",
    "draw_times = 100\n",
    "\n",
    "rng = np.random.default_rng()       # this time put in the seed value    \n",
    "random_ints = rng.integers(*draw_range, \n",
    "                            draw_times)\n",
    "\n",
    "# plotting\n",
    "f = plt.figure(facecolor='white', figsize=(4,3), dpi=150 )\n",
    "ax1 = f.subplots(1, 1)\n",
    "\n",
    "# plot the histogram\n",
    "n, edges, _ = ax1.hist(random_ints, range = (-0.5, 9.5), bins=10, histtype='step')\n",
    "\n",
    "bin_center = (edges[:-1] + edges[1:])/2\n",
    "ax1.plot(bin_center, n, '.', ms=3, c='tab:red')\n",
    "\n",
    "ax1.legend(fontsize='small')\n",
    "xlabel = 'random #'; ylabel = '#'\n",
    "set_plot_axis_label(ax1, xlabel, ylabel)"
   ],
   "outputs": [],
   "metadata": {}
  },
  {
   "cell_type": "markdown",
   "source": [
    "## Python Numpy Random Generator -- random draw from a model distrbution\n",
    "\n",
    "See what kind of distrebution can Numpy Random Generator draw from:\n",
    "[Distributions](https://numpy.org/doc/stable/reference/random/generator.html#distributions)\n",
    "\n",
    "Below we will do the demo with the normal (Gaussian) distrbution.\n",
    "\n",
    "```[note]\n",
    "normal(...) method of numpy.random._generator.Generator instance\n",
    "    normal(loc=0.0, scale=1.0, size=None)\n",
    "    \n",
    "    Draw random samples from a normal (Gaussian) distribution.\n",
    "    \n",
    "    The probability density function of the normal distribution, first\n",
    "    derived by De Moivre and 200 years later by both Gauss and Laplace\n",
    "    independently [2]_, is often called the bell curve because of\n",
    "    its characteristic shape (see the example below).\n",
    "    \n",
    "    The normal distributions occurs often in nature.  For example, it\n",
    "    describes the commonly occurring distribution of samples influenced\n",
    "    by a large number of tiny, random disturbances, each with its own\n",
    "    unique distribution [2]_.\n",
    "    \n",
    "    Parameters\n",
    "    ----------\n",
    "    loc : float or array_like of floats\n",
    "        Mean (\"centre\") of the distribution.\n",
    "    scale : float or array_like of floats\n",
    "        Standard deviation (spread or \"width\") of the distribution. Must be\n",
    "        non-negative.\n",
    "    size : int or tuple of ints, optional\n",
    "        Output shape.  If the given shape is, e.g., ``(m, n, k)``, then\n",
    "        ``m * n * k`` samples are drawn.  If size is ``None`` (default),\n",
    "        a single value is returned if ``loc`` and ``scale`` are both scalars.\n",
    "        Otherwise, ``np.broadcast(loc, scale).size`` samples are drawn.\n",
    "...\n",
    "```"
   ],
   "metadata": {}
  },
  {
   "cell_type": "code",
   "execution_count": null,
   "source": [
    "# random number setup\n",
    "draw_mean_std = (10, 0.2)\n",
    "draw_times = 10\n",
    "\n",
    "rng = np.random.default_rng()\n",
    "nor_distrbution_array = rng.normal(*draw_mean_std,\n",
    "                                    draw_times)\n",
    "\n",
    "print(nor_distrbution_array)"
   ],
   "outputs": [],
   "metadata": {}
  },
  {
   "cell_type": "code",
   "execution_count": null,
   "source": [
    "# random number setup\n",
    "draw_mean_std = (10, 0.2)\n",
    "draw_times = 100\n",
    "\n",
    "rng = np.random.default_rng()\n",
    "nor_distrbution_array = rng.normal(*draw_mean_std,\n",
    "                                    draw_times)\n",
    "\n",
    "# plotting \n",
    "f = plt.figure(facecolor='white', figsize=(4,3), dpi=150 )\n",
    "ax = f.subplots(1, 1)\n",
    "\n",
    "ax.hist(nor_distrbution_array, histtype='step', range=(9, 11), bins=100)\n",
    "\n",
    "ax.legend(fontsize='small')\n",
    "xlabel = 'random numbers'\n",
    "ylabel = 'numbers'\n",
    "set_plot_axis_label(ax, xlabel, ylabel)"
   ],
   "outputs": [],
   "metadata": {}
  },
  {
   "cell_type": "markdown",
   "source": [
    "## [Assignment 1] Find out at least how many `draw_times` we need to get is a normal distebution?\n",
    "\n"
   ],
   "metadata": {}
  },
  {
   "cell_type": "code",
   "execution_count": null,
   "source": [
    "# [your code here]"
   ],
   "outputs": [],
   "metadata": {}
  },
  {
   "cell_type": "markdown",
   "source": [
    "## Monte Carlo -- Uncertainty (error) Propagation\n",
    "\n",
    "Simple error propagation like addition of two parameters can be done quickly by band with equtions below:\n",
    "\n",
    "![Uncertainty Propagationn](http://science.clemson.edu/physics/labs/tutorials/errorp/eptable.gif)\n",
    "\n",
    "(from Clemson University)\n",
    "\n",
    "But, with the equation below, how fast can you get the error of the density ($\\rho$) that propagated from $m$, $r$, and $h$?\n",
    "$$\n",
    "\\rho = \\frac{m}{V} = \\frac{m}{\\pi r^2 (h/3)} = \\frac{3m}{\\pi r^2 h}\n",
    "$$\n",
    "\n",
    "|                 | units | values | uncertainty ($\\sigma$) |\n",
    "|-----------------|:-----:|:------:|:----------------------:|\n",
    "| Mass (m)        |   g   |  55.5  |          4.52          |\n",
    "| Cone radius (r) |   cm  |  14.2  |          1.11          |\n",
    "| Cone height (h) |   cm  |   9.9  |          0.59          |\n",
    "\n",
    "modified from [Steve Spicklemire's youtube viedo](https://www.youtube.com/watch?v=V4U6RFI6HW8&t=298s)\n",
    "\n",
    "With the assumption that all the uncertainty, $\\sigma$, in the above table are in fact Gaussian noise, then we can \n",
    "reconstruct the Gaussian distrebution of the parameter with the `mean` and the `$\\sigma$`.\n",
    "Assume we do the draw 10 times, for each parameters we then have 10 values that are with in the Gaussian distrbution \n",
    "based on their mean and standard deviation. Using that 10 sets of parameters of $m$, $r$, and $h$ we can get 10 $\\rho$\n",
    "values. The standard deviation of the 10 $\\rho$ values will then be your uncertainty of the $\\rho$!\n",
    "\n",
    "Before trying on the density function, let's start with something simple:\n",
    "$$\n",
    "c = a + b\n",
    "$$\n",
    "where $a$ is 5.5 and with an uncertainty of 0.22, and $b$ is 7.8 with an uncertainty of 2.54. We can get the \n",
    "uncertainty of the $c$ value via:"
   ],
   "metadata": {}
  },
  {
   "cell_type": "code",
   "execution_count": null,
   "source": [
    "c_unc = np.sqrt(0.22**2 + 2.54**2)\n",
    "print(f'The c value has an uncertainty of {c_unc:1.2f}')"
   ],
   "outputs": [],
   "metadata": {}
  },
  {
   "cell_type": "markdown",
   "source": [
    "Let's to get the `c_unc` using the MC method."
   ],
   "metadata": {}
  },
  {
   "cell_type": "code",
   "execution_count": null,
   "source": [
    "draw_times = 1000\n",
    "rng = np.random.default_rng()\n",
    "a_mc_array = rng.normal(5.5, 0.22, draw_times)\n",
    "b_mc_array = rng.normal(7.8, 2.54, draw_times)\n",
    "\n",
    "\n",
    "c_mc_array = a_mc_array + b_mc_array\n",
    "c_unc_mc = np.std(c_mc_array)\n",
    "print(f'The c value has an uncertainty of {c_unc_mc:1.2f}')"
   ],
   "outputs": [],
   "metadata": {}
  },
  {
   "cell_type": "markdown",
   "source": [
    "The larger the draw_times you use, the more stable the c_unc_mc can be. Let's write up some code to see what draw_times we need to get stable c_unc_mc. So, how at least how many times we need to get a stable answer for c_unc_mc?"
   ],
   "metadata": {}
  },
  {
   "cell_type": "markdown",
   "source": [
    "### [Hands-on] Get the uncertainty for $c$\n",
    "\n",
    "$$\n",
    "\\rho = \\frac{m}{V} = \\frac{m}{\\pi r^2 (h/3)} = \\frac{3m}{\\pi r^2 h}\n",
    "$$\n",
    "\n",
    "|                 | units | values | uncertainty ($\\sigma$) |\n",
    "|-----------------|:-----:|:------:|:----------------------:|\n",
    "| Mass (m)        |   g   |  55.5  |          4.52          |\n",
    "| Cone radius (r) |   cm  |  14.2  |          1.11          |\n",
    "| Cone height (h) |   cm  |   9.9  |          0.59          |\n"
   ],
   "metadata": {}
  },
  {
   "cell_type": "code",
   "execution_count": null,
   "source": [
    "# [your code here]"
   ],
   "outputs": [],
   "metadata": {}
  },
  {
   "cell_type": "markdown",
   "source": [
    "## Monte Carlo -- Bootstrapping\n",
    "\n",
    "Modified from [Introduction to Statistical Methodology, Second Edition Chaper 3](https://bookdown.org/dereksonderegger/570/3-confidence-intervals-via-bootstrapping.html)"
   ],
   "metadata": {}
  },
  {
   "cell_type": "code",
   "execution_count": null,
   "source": [
    "import pandas as pd\n",
    "df = pd.read_csv('https://www.lock5stat.com/datasets3e/FloridaLakes.csv')\n",
    "AvgMercury = df['AvgMercury'].to_numpy()"
   ],
   "outputs": [],
   "metadata": {}
  },
  {
   "cell_type": "code",
   "execution_count": null,
   "source": [
    "# plotting \n",
    "f = plt.figure(facecolor='white', figsize=(4,3), dpi=150 )\n",
    "ax = f.subplots(1, 1)\n",
    "\n",
    "ax.hist(AvgMercury, histtype='step', range=(0, np.max(AvgMercury)), bins=10)\n",
    "\n",
    "xlabel = 'Avgmercury'; ylabel = 'numbers'\n",
    "set_plot_axis_label(ax, xlabel, ylabel)\n",
    "ax.set_title('Mercury level in Florida Lakes', size='medium', fontname='Helvetica')"
   ],
   "outputs": [],
   "metadata": {}
  },
  {
   "cell_type": "code",
   "execution_count": null,
   "source": [
    "# Based on the plot above, are we sure that the mean mercury amount in Florida \n",
    "# is just by taken the mean of AvgMercury?\n",
    "# what are the uncertainties?\n",
    "\n",
    "print(f'The mean mercury amount in Florida is {np.mean(AvgMercury):1.2f}')"
   ],
   "outputs": [],
   "metadata": {}
  },
  {
   "cell_type": "markdown",
   "source": [
    "To prvent this kind of small number ststistic, we need the help of Bootstrapping.\n",
    "Here we need to use `rng.choice()`\n",
    "\n",
    "```[note]\n",
    "choice(...) method of numpy.random._generator.Generator instance\n",
    "    choice(a, size=None, replace=True, p=None, axis=0, shuffle=True)\n",
    "    \n",
    "    Generates a random sample from a given array\n",
    "    \n",
    "    Parameters\n",
    "    ----------\n",
    "    a : {array_like, int}\n",
    "        If an ndarray, a random sample is generated from its elements.\n",
    "        If an int, the random sample is generated from np.arange(a).\n",
    "    size : {int, tuple[int]}, optional\n",
    "        Output shape.  If the given shape is, e.g., ``(m, n, k)``, then\n",
    "        ``m * n * k`` samples are drawn from the 1-d `a`. If `a` has more\n",
    "        than one dimension, the `size` shape will be inserted into the\n",
    "        `axis` dimension, so the output ``ndim`` will be ``a.ndim - 1 +\n",
    "        len(size)``. Default is None, in which case a single value is\n",
    "        returned.\n",
    "    replace : bool, optional\n",
    "        Whether the sample is with or without replacement. Default is True,\n",
    "        meaning that a value of ``a`` can be selected multiple times.\n",
    "    p : 1-D array_like, optional\n",
    "        The probabilities associated with each entry in a.\n",
    "        If not given, the sample assumes a uniform distribution over all\n",
    "        entries in ``a``.\n",
    "...\n",
    "```"
   ],
   "metadata": {}
  },
  {
   "cell_type": "code",
   "execution_count": null,
   "source": [
    "rng = np.random.default_rng()\n",
    "a_mc_array = rng.choice(AvgMercury, len(AvgMercury))\n",
    "print(a_mc_array)"
   ],
   "outputs": [],
   "metadata": {}
  },
  {
   "cell_type": "code",
   "execution_count": null,
   "source": [
    "# plotting \n",
    "f = plt.figure(facecolor='white', figsize=(4,3), dpi=150 )\n",
    "ax = f.subplots(1, 1)\n",
    "\n",
    "ax.hist(AvgMercury, histtype='step', range=(0, np.max(AvgMercury)), bins=10, \n",
    "        color='black')\n",
    "\n",
    "ax.axvline(np.mean(AvgMercury), lw=1, color='black', ls='--')\n",
    "\n",
    "# random draw result\n",
    "a_mc_array = rng.choice(AvgMercury, len(AvgMercury))\n",
    "\n",
    "ax.hist(a_mc_array, histtype='step', range=(0, np.max(AvgMercury)), bins=10,\n",
    "        color='tab:red')\n",
    "ax.axvline(np.mean(a_mc_array), lw=1, color='tab:red', ls='--')\n",
    "\n",
    "xlabel = 'Avgmercury'; ylabel = 'numbers'\n",
    "set_plot_axis_label(ax, xlabel, ylabel)\n",
    "ax.set_title('Mercury level in Florida Lakes', size='medium', fontname='Helvetica')"
   ],
   "outputs": [],
   "metadata": {}
  },
  {
   "cell_type": "code",
   "execution_count": null,
   "source": [
    "# plotting \n",
    "f = plt.figure(facecolor='white', figsize=(4,3), dpi=150 )\n",
    "ax = f.subplots(1, 1)\n",
    "\n",
    "ax.axvline(np.mean(AvgMercury), lw=1, color='black', ls='--')\n",
    "\n",
    "# random draw result\n",
    "sample_times = 100000\n",
    "\n",
    "mean_collection = []\n",
    "for _ in range(sample_times): \n",
    "        a_mc_array = rng.choice(AvgMercury, len(AvgMercury))\n",
    "        mean_collection.append(np.mean(a_mc_array))\n",
    "\n",
    "ax.hist(mean_collection, histtype='step', color='tab:red', bins=50)\n",
    "\n",
    "\n",
    "xlabel = 'Avgmercury'; ylabel = 'numbers'\n",
    "set_plot_axis_label(ax, xlabel, ylabel)\n",
    "ax.set_title('Mercury level in Florida Lakes', size='medium', fontname='Helvetica')"
   ],
   "outputs": [],
   "metadata": {}
  },
  {
   "cell_type": "code",
   "execution_count": null,
   "source": [
    "print(f'mean: {np.mean(mean_collection):1.2f}')\n",
    "print(f'std: {np.std(mean_collection):1.2f}')\n",
    "\n",
    "print(f'50 %: {np.percentile(mean_collection, 50):1.2f}')\n",
    "print(f'16 %: {np.percentile(mean_collection, 16):1.2f}')\n",
    "print(f'84 %: {np.percentile(mean_collection, 84):1.2f}')"
   ],
   "outputs": [],
   "metadata": {}
  },
  {
   "cell_type": "markdown",
   "source": [
    "## [Assignment 2] What's the value for $\\pi$?\n",
    "\n",
    "In this assignment, you will need to use the MC method to estimate the values of $\\pi$.\n",
    "\n",
    "Assuming you have a quarter circle with the radius of 1 and a square that share it's edge with the quarter circle's \n",
    "radius (see the plot below). \n",
    "\n",
    "![Monte-Carlo pi](https://helloacm.com/wp-content/uploads/2015/11/Monte-Carlo01.jpg)\n",
    "\n",
    "Thereofre, we know:\n",
    "$$\n",
    "\\frac{Area_{\\rm quarter\\ circle}}{Area_{\\rm square}} = \\frac{\\pi r^2/4}{r^2} = \\frac{\\pi}{4}\n",
    "$$\n",
    "Rearange the equation and changes the area with the number of points we have:\n",
    "$$\n",
    "\\pi = 4 \\frac{Area_{\\rm quarter\\ circle}}{Area_{\\rm square}} = 4 \\frac{N_{\\rm quarter\\ circle}}{N_{\\rm square}}\n",
    "$$\n",
    "where $N_{\\rm quarter\\ circle}$ is the number of points within the quarter circle and $N_{\\rm square}$ is the number of points\n",
    "within the square.\n",
    "\n",
    "Tips:\n",
    "1. You will need to generate two arrays with the random generator as the x and y axis of each points.\n",
    "2. Calculate the number of points within the quarter circl and within the square\n",
    "3. You get $\\pi$ values by divide the two numbers and times 4\n",
    "\n",
    "\n",
    "\n"
   ],
   "metadata": {}
  },
  {
   "cell_type": "code",
   "execution_count": null,
   "source": [
    "# [your code here]"
   ],
   "outputs": [],
   "metadata": {}
  },
  {
   "cell_type": "code",
   "execution_count": null,
   "source": [
    "# To test how accurate your $\\pi$ is, run\n",
    "\n",
    "# accuracy = 1e-15\n",
    "# yorn = np.abs(your_pi - np.pi) < accuracy\n",
    "\n",
    "# print(f'Is my pi accurate emough?: {yorn}')\n"
   ],
   "outputs": [],
   "metadata": {}
  }
 ],
 "metadata": {
  "orig_nbformat": 4,
  "language_info": {
   "name": "python",
   "version": "3.7.8",
   "mimetype": "text/x-python",
   "codemirror_mode": {
    "name": "ipython",
    "version": 3
   },
   "pygments_lexer": "ipython3",
   "nbconvert_exporter": "python",
   "file_extension": ".py"
  },
  "kernelspec": {
   "name": "python3",
   "display_name": "Python 3.7.8 64-bit ('base': conda)"
  },
  "interpreter": {
   "hash": "cb7cd84ea3cdf3ac0fe189395fa0b358ecca3de13b72fe17f3c14c2a97e9bf55"
  }
 },
 "nbformat": 4,
 "nbformat_minor": 2
}