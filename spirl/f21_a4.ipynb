{
 "cells": [
  {
   "cell_type": "markdown",
   "source": [
    "# SPIRL Fall 2021 Course -- Week 4 (Oct 12)\n",
    "\n",
    "Today we will talk about **Monte Carlo (MC)** methods, techniques that involve random sampling. But before we dive into that, \n",
    "we will need to learn a little bit about random numbers in Python.\n",
    "\n",
    "This will we will go over:\n",
    "\n",
    "1. Python Numpy Random Generator: `np.random.default_rng()`\n",
    "2. Plot histogram\n",
    "3. Monte Carlo -- Uncertainty Propagation\n",
    "4. Monte Carlo -- Bootstrapping\n",
    "\n",
    "## Readings (optional)\n",
    "\n",
    "If you find this week's material new or challenging, you may want to read through some or all the following resources while working on your assignment:\n",
    "\n",
    "- [SPIRL Ch. 3.6. Conditionals](https://cjtu.github.io/spirl/python_conditionals.html#conditionals)\n",
    "- [Numpy Random Generator](https://numpy.org/doc/stable/reference/random/generator.html)\n"
   ],
   "metadata": {}
  },
  {
   "cell_type": "code",
   "execution_count": 1,
   "source": [
    "import numpy as np\n",
    "import matplotlib.pyplot as plt"
   ],
   "outputs": [],
   "metadata": {}
  },
  {
   "cell_type": "markdown",
   "source": [
    "## Random Number Generators (RNGs)\n",
    "\n",
    "To work with random numbers in Python, we can use the `random` module within `numpy`.\n",
    "\n",
    "### Pseudo-random number generators (PRNG)\n",
    "\n",
    "It might sound easy to come up with a random number, but many surveys have found this to not be the case (e.g. [Asking 8500 students to pick a random number](https://www.reddit.com/r/dataisbeautiful/comments/acow6y/asking_over_8500_students_to_pick_a_random_number/)).\n",
    "\n",
    "Because computers are deterministic (a collection of switches that can be \"on\" or \"off\"), it is surprisingly hard to produce a set of numbers that are truly random.  Luckily, we often don't need a *truly* random set of numbers. Usually when we say we want random numbers, we want numbers that are:\n",
    "\n",
    "- not biased to any particular value \n",
    "- contains no repeated or recognizable patterns\n",
    "\n",
    "This is where a **pseudorandom number generator (PRNG)** can help.\n",
    "\n",
    "See what Wikipedia tell us about the PRNG:\n",
    "\n",
    "> A pseudorandom number generator (PRNG), also known as a deterministic random bit generator (DRBG), is an algorithm for generating a sequence of numbers whose properties approximate the properties of sequences of random numbers. The PRNG-generated sequence is not truly random, because it is completely determined by an initial value, called the PRNG's seed (which may include truly random values).\n",
    "\n",
    "The key \"flaw\" with a PRNG is that if you know a special value called the **seed**, you can regenerate the exact same sequence of random numbers again. But this ends up being as much a *feature* of a PRNG than as a *bug* which we'll see later.\n",
    "\n",
    "Since all computer generated random number generators are PRNGs, we often just drop the \"P\" and simply call them **random number generators (RNGs)** (but now you know their secret).\n",
    "\n",
    "Read more about [Pseudorandom number generators on Wikipedia](https://en.wikipedia.org/wiki/Pseudorandom_number_generator).\n",
    "\n",
    "### NumPy Random Module (`np.random`)\n",
    "\n",
    "In NumPy, there are two ways to generate random numbers:\n",
    "\n",
    "- Calling functions in `random` directly (**deprecated**): `np.random.func()`\n",
    "- Generating an `rng` object with `obj = np.random.default_rng()` and calling methods on it: `obj.method()`\n",
    "\n",
    "There are also different algorithms you can use to generate random numbers and if you mix and match RNG algorithms, you won't be guaranteed the same random numbers even if you know the **seed**. This is why random numbers in different programming languages won't necessarily be the same with the same seed (read more about [NumPy bit generators](https://numpy.org/doc/stable/reference/random/bit_generators/index.html)). For almost all applications, the `default_random` from NumPy is sufficient (see [NumPy simple random data](https://numpy.org/doc/stable/reference/random/generator.html#simple-random-data). Let's try it out!"
   ],
   "metadata": {}
  },
  {
   "cell_type": "code",
   "execution_count": 2,
   "source": [
    "# Initialize the random number generator object\n",
    "rng = np.random.default_rng()\n",
    "# help(rng.integers)"
   ],
   "outputs": [],
   "metadata": {}
  },
  {
   "cell_type": "markdown",
   "source": [
    "Let's first try to genertae random intergers with\n",
    "\n",
    "```\n",
    "integers(low, high=None, size=None, dtype=np.int64, endpoint=False)\n",
    "\n",
    "Return random integers from `low` (inclusive) to `high` (exclusive), or\n",
    "if endpoint=True, `low` (inclusive) to `high` (inclusive). Replaces\n",
    "`RandomState.randint` (with endpoint=False) and\n",
    "`RandomState.random_integers` (with endpoint=True)\n",
    "\n",
    "Return random integers from the \"discrete uniform\" distribution of\n",
    "the specified dtype. If `high` is None (the default), then results are\n",
    "from 0 to `low`.\n",
    "...\n",
    "```"
   ],
   "metadata": {}
  },
  {
   "cell_type": "code",
   "execution_count": 3,
   "source": [
    "# Draw random intergers from the range `draw_range` `ndraws` times.\n",
    "draw_range = (0, 10)  # (low, high)\n",
    "ndraws = 8  # how many to generate or \"draw\"\n",
    "\n",
    "random_ints = rng.integers(*draw_range, ndraws)\n",
    "\n",
    "print(random_ints)"
   ],
   "outputs": [
    {
     "output_type": "stream",
     "name": "stdout",
     "text": [
      "[2 4 2 7 7 1 2 2]\n"
     ]
    }
   ],
   "metadata": {}
  },
  {
   "cell_type": "markdown",
   "source": [
    "Now use `for` loop to run it many times to see if any is duplicated"
   ],
   "metadata": {}
  },
  {
   "cell_type": "code",
   "execution_count": 4,
   "source": [
    "rng = np.random.default_rng()\n",
    "for i in range(10):\n",
    "    random_ints = rng.integers(*draw_range, ndraws)\n",
    "    print(f'Run {i}: ', random_ints)"
   ],
   "outputs": [
    {
     "output_type": "stream",
     "name": "stdout",
     "text": [
      "Run 0:  [5 5 3 7 0 0 0 2]\n",
      "Run 1:  [5 2 4 7 4 1 9 7]\n",
      "Run 2:  [3 7 8 7 8 4 3 9]\n",
      "Run 3:  [5 3 2 8 2 8 5 2]\n",
      "Run 4:  [4 2 8 1 8 7 3 6]\n",
      "Run 5:  [0 7 6 1 6 1 7 5]\n",
      "Run 6:  [6 8 4 3 2 2 7 9]\n",
      "Run 7:  [5 0 9 3 8 7 6 1]\n",
      "Run 8:  [6 7 1 4 8 2 9 5]\n",
      "Run 9:  [3 2 4 1 2 5 5 3]\n"
     ]
    }
   ],
   "metadata": {}
  },
  {
   "cell_type": "markdown",
   "source": [
    "But remember: these are *pseudo*random numbers, meaning we can generate the same random sequence again if we know the **seed** value.\n",
    "\n",
    "This time, see what happens when we re-make the rng object with the same seed each time in the loop."
   ],
   "metadata": {}
  },
  {
   "cell_type": "code",
   "execution_count": 5,
   "source": [
    "draw_range = (0, 10)\n",
    "ndraws = 10\n",
    "seed = 100\n",
    " \n",
    "for i in range(10):\n",
    "    rng = np.random.default_rng(seed)  # seed the default RNG\n",
    "    random_ints = rng.integers(*draw_range, ndraws)\n",
    "    print(f'run {i} give: ', random_ints)"
   ],
   "outputs": [
    {
     "output_type": "stream",
     "name": "stdout",
     "text": [
      "run 0 give:  [7 8 1 5 0 2 4 0 5 9]\n",
      "run 1 give:  [7 8 1 5 0 2 4 0 5 9]\n",
      "run 2 give:  [7 8 1 5 0 2 4 0 5 9]\n",
      "run 3 give:  [7 8 1 5 0 2 4 0 5 9]\n",
      "run 4 give:  [7 8 1 5 0 2 4 0 5 9]\n",
      "run 5 give:  [7 8 1 5 0 2 4 0 5 9]\n",
      "run 6 give:  [7 8 1 5 0 2 4 0 5 9]\n",
      "run 7 give:  [7 8 1 5 0 2 4 0 5 9]\n",
      "run 8 give:  [7 8 1 5 0 2 4 0 5 9]\n",
      "run 9 give:  [7 8 1 5 0 2 4 0 5 9]\n"
     ]
    }
   ],
   "metadata": {}
  },
  {
   "cell_type": "markdown",
   "source": [
    "## Plot histogram with `plt.hist`\n",
    "\n",
    "We can verify how random our values are using a histogram.\n",
    "\n",
    "`help(plt.hist)`\n",
    "\n",
    "```\n",
    "hist(x, bins=None, range=None, density=None, weights=None, cumulative=False, bottom=None, histtype='bar', align='mid', orientation='vertical', rwidth=None, log=False, color=None, label=None, stacked=False, normed=None, *, data=None, **kwargs)\n",
    "    Plot a histogram.\n",
    "...\n",
    "    Returns\n",
    "    -------\n",
    "    n : array or list of arrays\n",
    "        The values of the histogram bins. See *density* and *weights* for a\n",
    "        description of the possible semantics.  If input *x* is an array,\n",
    "        then this is an array of length *nbins*. If input is a sequence of\n",
    "        arrays ``[data1, data2,..]``, then this is a list of arrays with\n",
    "        the values of the histograms for each of the arrays in the same\n",
    "        order.  The dtype of the array *n* (or of its element arrays) will\n",
    "        always be float even if no weighting or normalization is used.\n",
    "    \n",
    "    bins : array\n",
    "        The edges of the bins. Length nbins + 1 (nbins left edges and right\n",
    "        edge of last bin).  Always a single array even when multiple data\n",
    "        sets are passed in.\n",
    "    \n",
    "    patches : list or list of lists\n",
    "        Silent list of individual patches used to create the histogram\n",
    "        or list of such list if multiple input datasets.\n",
    "...\n",
    "```\n",
    "\n",
    "We will also use a convenient helper function to take care of some of our plot formatting."
   ],
   "metadata": {}
  },
  {
   "cell_type": "code",
   "execution_count": 6,
   "source": [
    "# If we want to apply the same format to each plot, we can make it a function!\n",
    "def set_plot_axis_label(ax, xlabel, ylabel):\n",
    "    \"\"\"\n",
    "    Set formatting options on a matplotlib ax object.\n",
    "    \n",
    "    Parameters\n",
    "    ----------\n",
    "    ax : matplotlib.axes.Axes\n",
    "        The ax object to format.\n",
    "    xlabel : str\n",
    "        The x-axis label.\n",
    "    ylabel : str\n",
    "        The y-axis label.\n",
    "    \"\"\"\n",
    "    ax.tick_params(axis='both', which ='both', labelsize='small', right=True, \n",
    "                     top=True, direction='in')   \n",
    "    ax.set_xlabel(xlabel, size='medium', fontname='Helvetica')\n",
    "    ax.set_ylabel(ylabel, size='medium', fontname='Helvetica')"
   ],
   "outputs": [],
   "metadata": {}
  },
  {
   "cell_type": "code",
   "execution_count": 7,
   "source": [
    "# random number setup\n",
    "draw_range = (0, 10)\n",
    "ndraws = 10000  # Try doing different numbers of draws\n",
    "\n",
    "# Do random draws\n",
    "rng = np.random.default_rng()  \n",
    "random_ints = rng.integers(*draw_range, ndraws)\n",
    "\n",
    "# Set up plot and plot the histogram\n",
    "fig, axs = plt.subplots(1, 2, facecolor='white', figsize=(7, 3), dpi=150)\n",
    "\n",
    "# Default hist\n",
    "n, edges, _ = axs[0].hist(random_ints)\n",
    "set_plot_axis_label(axs[0], 'Value', 'Count')  # Our helper function\n",
    "\n",
    "\n",
    "# Center the bins and show as a \"step\" function\n",
    "n, edges, _ = axs[1].hist(random_ints, range=(-0.5, 9.5), bins=10, \n",
    "                          histtype='step')\n",
    "set_plot_axis_label(axs[1], 'Value', 'Count')  # Our helper function"
   ],
   "outputs": [
    {
     "output_type": "stream",
     "name": "stderr",
     "text": [
      "findfont: Font family ['Helvetica'] not found. Falling back to DejaVu Sans.\n"
     ]
    },
    {
     "output_type": "display_data",
     "data": {
      "image/png": "[encoded data removed]",
      "text/plain": [
       "<Figure size 1050x450 with 2 Axes>"
      ]
     },
     "metadata": {}
    }
   ],
   "metadata": {}
  },
  {
   "cell_type": "markdown",
   "source": [
    "Let's see what our histogram actually gave us in the `n` and `edges` it returned."
   ],
   "metadata": {}
  },
  {
   "cell_type": "code",
   "execution_count": 8,
   "source": [
    "print(f'Number in each bins: {n}')\n",
    "print(f'Edges of each bin: {edges}')"
   ],
   "outputs": [
    {
     "output_type": "stream",
     "name": "stdout",
     "text": [
      "Number in each bins: [1037. 1027.  989. 1011.  983.  980. 1003.  967.  964. 1039.]\n",
      "Edges of each bin: [-0.5  0.5  1.5  2.5  3.5  4.5  5.5  6.5  7.5  8.5  9.5]\n"
     ]
    }
   ],
   "metadata": {}
  },
  {
   "cell_type": "markdown",
   "source": [
    "Now, let's overplot these data points back to the histogram.\n",
    "But, before that, we need to find out the center values of the each bins.\n",
    "\n",
    "### [Short Quiz] Find the bin centers from `edges` array \n",
    "\n",
    "Try to write code to covert bin edges to bin centers (copying the following list is cheating! We want to do it in general).\n",
    "\n",
    "```python\n",
    "edges = [-0.5  0.5  1.5  2.5  3.5  4.5  5.5  6.5  7.5  8.5  9.5]\n",
    "```\n",
    "into\n",
    "```python\n",
    "bin_center = [0, 1, 2, 3, 4, 5, 6, 7, 8, 9]\n",
    "```\n",
    "\n"
   ],
   "metadata": {}
  },
  {
   "cell_type": "code",
   "execution_count": 9,
   "source": [
    "# put you code here, you have 5 mins\n",
    "edges"
   ],
   "outputs": [
    {
     "output_type": "execute_result",
     "data": {
      "text/plain": [
       "array([-0.5,  0.5,  1.5,  2.5,  3.5,  4.5,  5.5,  6.5,  7.5,  8.5,  9.5])"
      ]
     },
     "metadata": {},
     "execution_count": 9
    }
   ],
   "metadata": {}
  },
  {
   "cell_type": "code",
   "execution_count": 10,
   "source": [
    "# Answer 1 -- using the for loop\n",
    "\n",
    "bin_center = []\n",
    "for i in range(len(edges)-1):\n",
    "    bin_center.append((edges[i] + edges[i+1]) / 2)\n",
    "print(bin_center)  "
   ],
   "outputs": [
    {
     "output_type": "stream",
     "name": "stdout",
     "text": [
      "[0.0, 1.0, 2.0, 3.0, 4.0, 5.0, 6.0, 7.0, 8.0, 9.0]\n"
     ]
    }
   ],
   "metadata": {}
  },
  {
   "cell_type": "markdown",
   "source": [
    "### [Side note:] List comprehensions\n",
    "\n",
    "List comprehensions are a fancy way to make a list using a simple 1 line `for` loop.\n",
    "\n",
    "The basic syntax is square brackets `[]` with the familiar `for i in blah` inside.\n",
    "\n",
    "For example:"
   ],
   "metadata": {}
  },
  {
   "cell_type": "code",
   "execution_count": 11,
   "source": [
    "[i for i in range(10)]"
   ],
   "outputs": [
    {
     "output_type": "execute_result",
     "data": {
      "text/plain": [
       "[0, 1, 2, 3, 4, 5, 6, 7, 8, 9]"
      ]
     },
     "metadata": {},
     "execution_count": 11
    }
   ],
   "metadata": {}
  },
  {
   "cell_type": "markdown",
   "source": [
    "The `i` at the beginning is just our loop variable and indicates what we want Python to be put in the final list. So we can also do math or functions on that loop variable, as we would in a for loop."
   ],
   "metadata": {}
  },
  {
   "cell_type": "code",
   "execution_count": 12,
   "source": [
    "squared = [n**2 for n in range(10)]\n",
    "\n",
    "# This is equivalent to:\n",
    "squared2 = []\n",
    "for n in range(10):\n",
    "    squared2.append(n**2)\n",
    "\n",
    "print(squared)\n",
    "print(squared2)\n",
    "print(squared == squared2)  # \"==\" tests for equality"
   ],
   "outputs": [
    {
     "output_type": "stream",
     "name": "stdout",
     "text": [
      "[0, 1, 4, 9, 16, 25, 36, 49, 64, 81]\n",
      "[0, 1, 4, 9, 16, 25, 36, 49, 64, 81]\n",
      "True\n"
     ]
    }
   ],
   "metadata": {}
  },
  {
   "cell_type": "markdown",
   "source": [
    "Getting back to our problem of converting bin edges to bin centers, we can do this with a list comprehension!"
   ],
   "metadata": {}
  },
  {
   "cell_type": "code",
   "execution_count": 13,
   "source": [
    "# Answer 2 -- using the list comprehension\n",
    "\n",
    "bin_center = [(edges[i] + edges[i+1]) / 2 for i in range(len(edges)-1)]\n",
    "print(bin_center)  "
   ],
   "outputs": [
    {
     "output_type": "stream",
     "name": "stdout",
     "text": [
      "[0.0, 1.0, 2.0, 3.0, 4.0, 5.0, 6.0, 7.0, 8.0, 9.0]\n"
     ]
    }
   ],
   "metadata": {}
  },
  {
   "cell_type": "markdown",
   "source": [
    "Finally, we have a 3rd solution which takes advantage of NumPy array indexing, slicing, and element-wise math. We call this **vectorization** and it is usually the most efficient way to solve a problem. It also often uses less code which can be good, since less code has less room for errors. \n",
    "\n",
    "Vectorizing code takes a little practice. The main idea is to think about arrays as collections of numbers we can do math on all at once."
   ],
   "metadata": {}
  },
  {
   "cell_type": "code",
   "execution_count": 14,
   "source": [
    "# Answer 3 -- array slicing (recommended)\n",
    "\n",
    "bin_center = (edges[:-1] + edges[1:]) / 2\n",
    "print(bin_center) "
   ],
   "outputs": [
    {
     "output_type": "stream",
     "name": "stdout",
     "text": [
      "[0. 1. 2. 3. 4. 5. 6. 7. 8. 9.]\n"
     ]
    }
   ],
   "metadata": {}
  },
  {
   "cell_type": "markdown",
   "source": [
    "Let's break that example down to see what we did:"
   ],
   "metadata": {}
  },
  {
   "cell_type": "code",
   "execution_count": 15,
   "source": [
    "print(edges[:-1])  # All edges except the last one\n",
    "print(edges[1:])   # All edges except the first one\n",
    "\n",
    "# Now we have 2 arrays of elements but they are offset by 1\n",
    "# Now we want to take the avg of these adjacent elements to get the centers\n",
    "print((edges[:-1] + edges[1:]) / 2)  # Mean is just (el1 + el2) / 2"
   ],
   "outputs": [
    {
     "output_type": "stream",
     "name": "stdout",
     "text": [
      "[-0.5  0.5  1.5  2.5  3.5  4.5  5.5  6.5  7.5  8.5]\n",
      "[0.5 1.5 2.5 3.5 4.5 5.5 6.5 7.5 8.5 9.5]\n",
      "[0. 1. 2. 3. 4. 5. 6. 7. 8. 9.]\n"
     ]
    }
   ],
   "metadata": {}
  },
  {
   "cell_type": "markdown",
   "source": [
    "Whichever way you figured out how to compute the centers, we can now plot the bin centers on our histogram!"
   ],
   "metadata": {}
  },
  {
   "cell_type": "code",
   "execution_count": 16,
   "source": [
    "# random number setup\n",
    "draw_range = (0, 10)\n",
    "ndraws = 1000\n",
    "\n",
    "rng = np.random.default_rng()       # this time put in the seed value    \n",
    "random_ints = rng.integers(*draw_range, \n",
    "                            ndraws)\n",
    "\n",
    "# plotting\n",
    "f = plt.figure(facecolor='white', figsize=(4,3), dpi=150 )\n",
    "ax1 = f.subplots(1, 1)\n",
    "\n",
    "# plot the histogram\n",
    "n, edges, _ = ax1.hist(random_ints, range = (-0.5, 9.5), bins=10, histtype='step')\n",
    "\n",
    "bin_center = (edges[:-1] + edges[1:])/2\n",
    "ax1.plot(bin_center, n, '.', ms=3, c='tab:red')\n",
    "set_plot_axis_label(ax1, 'Value', 'Count')"
   ],
   "outputs": [
    {
     "output_type": "display_data",
     "data": {
      "image/png": "[encoded data removed]",
      "text/plain": [
       "<Figure size 600x450 with 1 Axes>"
      ]
     },
     "metadata": {}
    }
   ],
   "metadata": {}
  },
  {
   "cell_type": "markdown",
   "source": [
    "## NumPy Random - random draws from a distribution\n",
    "\n",
    "We can draw from a variety of statistical distributions using our `numpy.random.default_rng` object (see all of them at [NumPy Random Distributions](https://numpy.org/doc/stable/reference/random/generator.html#distributions).\n",
    "\n",
    "We'll see this in action with the normal (Gaussian) distribution.\n",
    "\n",
    "```\n",
    "normal(...) method of numpy.random._generator.Generator instance\n",
    "    normal(loc=0.0, scale=1.0, size=None)\n",
    "    \n",
    "    Draw random samples from a normal (Gaussian) distribution.\n",
    "    \n",
    "    Parameters\n",
    "    ----------\n",
    "    loc : float or array_like of floats\n",
    "        Mean (\"centre\") of the distribution.\n",
    "    scale : float or array_like of floats\n",
    "        Standard deviation (spread or \"width\") of the distribution. Must be\n",
    "        non-negative.\n",
    "    size : int or tuple of ints, optional\n",
    "        Output shape.  If the given shape is, e.g., ``(m, n, k)``, then\n",
    "        ``m * n * k`` samples are drawn.  If size is ``None`` (default),\n",
    "        a single value is returned if ``loc`` and ``scale`` are both scalars.\n",
    "        Otherwise, ``np.broadcast(loc, scale).size`` samples are drawn.\n",
    "...\n",
    "```\n",
    "\n",
    "In the docstring for `rng.normal`, we can see it asks for a `loc` (mean) and `scale` (standard deviation) of the Gaussian distribution to randomly draw from."
   ],
   "metadata": {}
  },
  {
   "cell_type": "code",
   "execution_count": 17,
   "source": [
    "# random number setup\n",
    "draw_mean_std = (10, 0.2)  # (mean, stdev)\n",
    "ndraws = 10\n",
    "\n",
    "rng = np.random.default_rng()\n",
    "draws = rng.normal(*draw_mean_std, ndraws)\n",
    "\n",
    "print(draws)"
   ],
   "outputs": [
    {
     "output_type": "stream",
     "name": "stdout",
     "text": [
      "[ 9.97565298 10.09256    10.2937732  10.29901997 10.37028591  9.78453144\n",
      "  9.83783624  9.64644095 10.16691142 10.20341755]\n"
     ]
    }
   ],
   "metadata": {}
  },
  {
   "cell_type": "markdown",
   "source": [
    "Similarly to above, we can see that after many draws, our histogram begins to look like a typical Gaussian \"bell curve\" centered at the mean with standard deviation spread."
   ],
   "metadata": {}
  },
  {
   "cell_type": "code",
   "execution_count": 18,
   "source": [
    "# random number setup\n",
    "draw_mean_std = (10, 0.2)\n",
    "ndraws = 1000000  # <- try changing the number of draws\n",
    "\n",
    "rng = np.random.default_rng()\n",
    "draws = rng.normal(*draw_mean_std, ndraws)\n",
    "\n",
    "# plotting \n",
    "f = plt.figure(facecolor='white', figsize=(4, 3), dpi=150)\n",
    "ax = f.subplots(1, 1)\n",
    "\n",
    "n, edges, _ = ax.hist(draws, histtype='step', range=(9, 11), bins=100)\n",
    "set_plot_axis_label(ax, 'Value', 'Count')"
   ],
   "outputs": [
    {
     "output_type": "display_data",
     "data": {
      "image/png": "[encoded data removed]",
      "text/plain": [
       "<Figure size 600x450 with 1 Axes>"
      ]
     },
     "metadata": {}
    }
   ],
   "metadata": {}
  },
  {
   "cell_type": "markdown",
   "source": [
    "## Monte Carlo -- Uncertainty (error) Propagation\n",
    "\n",
    "Recall last week we had a simple measurement with some error associated with it.\n",
    "\n",
    "What happens when we cannot measure a quantity and its error directly but still want to estimate the errors on it?\n",
    "\n",
    "This is a job for **error propagation**!\n",
    "\n",
    "### Error propagation (analytical)\n",
    "\n",
    "If you only feed your measurement data through simple functions, we can \"propagate\" that error with the following error propagation equations:\n",
    "\n",
    "![Uncertainty Propagation](http://science.clemson.edu/physics/labs/tutorials/errorp/eptable.gif)\n",
    "\n",
    "(from Clemson University)\n",
    "\n",
    "This is the \"analytical\" way to propagate errors since we have well defined functions and can plug values in to compute the final errors.\n",
    "\n",
    "For example, say we had a study where we measured a participant's height and then the length of their hair. We want to find what their \"total height\" is if they were to pull their hair straight up. \n",
    "\n",
    "You might imagine we used different tools to measure the person's height (say a meter stick) and their hair length (say a ruler), and that those will have different precisions (error) associated with them. As good scientists, we want an accurate way to estimate the error of the \"total height\" so we'll use the formula above.\n",
    "\n",
    "- Meter stick precision: $1 cm = 0.01 m$\n",
    "- Ruler precision: $5 mm = 0.005 m$ \n",
    "\n",
    "$H_{total} = Height + Hair$\n",
    "\n",
    "After our first measurement our average height and hair length is:\n",
    "\n",
    "- $Height = 1.7 \\pm 0.01 m$\n",
    "- $Hair Length = 0.27 \\pm 0.005 m$\n",
    "  \n",
    "So we can get the total height simply as $H_{total} = 1.971 m$ \n",
    "\n",
    "We can also get the uncertainty using the addition equation above:\n",
    "\n",
    "$\\sigma_{H} = \\sqrt{\\sigma_{Height}^2 + \\sigma_{Hair}^2}$"
   ],
   "metadata": {}
  },
  {
   "cell_type": "code",
   "execution_count": 19,
   "source": [
    "height = 1.7\n",
    "height_err = 0.01\n",
    "hair_length = 0.27\n",
    "hair_err = 0.005\n",
    "\n",
    "htotal = height + hair_length\n",
    "h_err = np.sqrt(height_err**2 + hair_err**2)\n",
    "\n",
    "print(f\"This person's total height was {htotal} +/- {h_err:1.5f} m\")"
   ],
   "outputs": [
    {
     "output_type": "stream",
     "name": "stdout",
     "text": [
      "This person's total height was 1.97 +/- 0.01118 m\n"
     ]
    }
   ],
   "metadata": {}
  },
  {
   "cell_type": "markdown",
   "source": [
    "Then say we got the mean total height of 9 participants, we would have to use the \"average\" error propagation rule on our `h_err` to get the total uncertainty on our average. Below the $\\bar{H}$ indicates the average and N is the total number of measurements (participants). \n",
    "\n",
    "$\\sigma_{\\bar{H}} = \\sqrt{\\frac{\\Sigma(H_i - \\bar{H})^2}{N-1}}$"
   ],
   "metadata": {}
  },
  {
   "cell_type": "code",
   "execution_count": 20,
   "source": [
    "heights = np.array([1.93, 1.82, 2.08, 2.01, 1.46, 1.34, 1.75, 2.2 , 1.95])\n",
    "hair_lengths = np.array([0.01, 0.56, 0.23, 0.27, 0.21, 0.1 , 0.04, 0.06, 0.15])\n",
    "\n",
    "h_totals = heights + hair_lengths\n",
    "h_err = np.sqrt(height_err**2 + hair_err**2)  # the same as before for each sum\n",
    "\n",
    "# Take the mean total height\n",
    "h_mean = np.mean(h_totals)\n",
    "\n",
    "# Find average uncertainty\n",
    "n = len(heights)  # Number of participants\n",
    "h_mean_err = np.sqrt(np.sum((h_mean-h_totals)**2) / (n - 1))\n",
    "print(f\"Mean total height (N={n}): {h_mean:.2f} +/- {h_mean_err:.3f}\")\n"
   ],
   "outputs": [
    {
     "output_type": "stream",
     "name": "stdout",
     "text": [
      "Mean total height (N=9): 2.02 +/- 0.329\n"
     ]
    }
   ],
   "metadata": {}
  },
  {
   "cell_type": "markdown",
   "source": [
    "Yay we got to report errors like good scientists! But we said this section was about randomness... \n",
    "\n",
    "Let's see another way to compute errors using only our measurements and our handy RNG object - no fancy error propagation formulas.\n",
    "\n",
    "The idea here is that as long as our errors are normal (Gaussian), we can just feed random number drawn from a Gaussian through the same steps as our data analysis (in this example just a sum and a mean) and the resulting Gaussian will estimate our final errors!\n",
    "\n",
    "We already know how to draw values from a Gaussian using our RNG so let's try it!"
   ],
   "metadata": {}
  },
  {
   "cell_type": "code",
   "execution_count": 21,
   "source": [
    "# Start with the same data and add it, compute the mean as usual\n",
    "heights = np.array([1.93, 1.82, 2.08, 2.01, 1.46, 1.34, 1.75, 2.2 , 1.95])\n",
    "hair_lengths = np.array([0.01, 0.56, 0.23, 0.27, 0.21, 0.1 , 0.04, 0.06, 0.15])\n",
    "h_totals = heights + hair_lengths\n",
    "\n",
    "ndraws = 100\n",
    "rng = np.random.default_rng(seed=100)  # <- remove seed to see other random results\n",
    "\n",
    "# Make our random arrays using the mean, standard dev of our measurements\n",
    "g_height = rng.normal(np.mean(heights), np.std(heights), ndraws)\n",
    "g_hair = rng.normal(np.mean(hair_lengths), np.std(hair_lengths), ndraws)\n",
    "\n",
    "# Feed the gaussian samples through the sum\n",
    "g_total_arr = g_height + g_hair\n",
    "\n",
    "# Because the error propagation formula for mean is just a standard deviation\n",
    "# we can estimate the error of the mean with the stdev of our total array\n",
    "g_mean_err = np.std(g_total_arr)\n",
    "\n",
    "# Now we report the same meanbut can use the gaussian standard dev as the err\n",
    "print(f\"Mean total height (N={n}): {h_mean:.2f} +/- {g_mean_err:.3f}\")"
   ],
   "outputs": [
    {
     "output_type": "stream",
     "name": "stdout",
     "text": [
      "Mean total height (N=9): 2.02 +/- 0.277\n"
     ]
    }
   ],
   "metadata": {}
  },
  {
   "cell_type": "markdown",
   "source": [
    "The larger the ndraws you use, the more stable the g_mean_err will be.\n",
    "\n",
    "We can try increasing the number of draws by hand to see when it levels out, but we have the power of code!\n",
    "\n",
    "Let's write up some code to see how many draws we need to get a stable g_mean_err.\n",
    "\n",
    "We can define stable as *changes by less than* $10^{-3}$ for now."
   ],
   "metadata": {}
  },
  {
   "cell_type": "code",
   "execution_count": 22,
   "source": [
    "g_mean_err_old = np.inf  # <- something big to start us off\n",
    "g_mean_err = 0\n",
    "delta_err = np.abs(g_mean_err - g_mean_err_old)\n",
    "ndraws = 10  # <- we'll multiply by a factor of 10 each time\n",
    "rng = np.random.default_rng(seed=100)\n",
    "\n",
    "# Stop loop when the difference drops below 1e-6\n",
    "while delta_err >= 1e-3:\n",
    "    g_height = rng.normal(np.mean(heights), np.std(heights), ndraws)\n",
    "    g_hair = rng.normal(np.mean(hair_lengths), np.std(hair_lengths), ndraws)\n",
    "    g_total_arr = g_height + g_hair\n",
    "    g_mean_err = np.std(g_total_arr)\n",
    "\n",
    "    delta_err = np.abs(g_mean_err - g_mean_err_old)\n",
    "    print(f'N={ndraws:.0e} gives err {g_mean_err:.3f} with delta {delta_err:.2e}')\n",
    "    g_mean_err_old = g_mean_err\n",
    "    ndraws *= 10  # double our draws each time\n",
    "# Now we can report our mean with confidence in our error precision\n",
    "print(f\"Mean total height (N={n}): {h_mean:.2f} +/- {g_mean_err:.3f}\")    "
   ],
   "outputs": [
    {
     "output_type": "stream",
     "name": "stdout",
     "text": [
      "N=1e+01 gives err 0.237 with delta inf\n",
      "N=1e+02 gives err 0.260 with delta 2.29e-02\n",
      "N=1e+03 gives err 0.309 with delta 4.83e-02\n",
      "N=1e+04 gives err 0.308 with delta 3.94e-04\n",
      "Mean total height (N=9): 2.02 +/- 0.308\n"
     ]
    }
   ],
   "metadata": {}
  },
  {
   "cell_type": "markdown",
   "source": [
    "Now we have an \"empirical\" estimate of our final error which didn't need error propagation formulas! \n",
    "\n",
    "Monte Carlo error propagation is particularly useful when you need to do a lot of manipulations to your data and don't want to write out all the propagation formulas by hand. It is also useful when your analysis involves more complicated functions than just addition, subtraction, multiplication, division (e.g., exponentials, logarithms, other non-linear functions, etc)."
   ],
   "metadata": {}
  },
  {
   "cell_type": "markdown",
   "source": [
    "## [Challenge assignment] \n",
    "\n",
    "\n",
    "But, what if you have something like\n",
    "$$\n",
    "\\rho = \\frac{m}{V} = \\frac{m}{\\pi r^2 (h/3)} = \\frac{3m}{\\pi r^2 h}\n",
    "$$\n",
    "How fast can you get the error of the density ($\\rho$) propagated from errors of $m$, $r$, and $h$?\n",
    "\n",
    "|                 | units | values | uncertainty ($\\sigma$) |\n",
    "|-----------------|:-----:|:------:|:----------------------:|\n",
    "| Mass (m)        |   g   |  55.5  |          4.52          |\n",
    "| Cone radius (r) |   cm  |  14.2  |          1.11          |\n",
    "| Cone height (h) |   cm  |   9.9  |          0.59          |\n",
    "\n",
    "modified from [Steve Spicklemire's youtube video](https://www.youtube.com/watch?v=V4U6RFI6HW8&t=298s)\n",
    "\n",
    "1. Find a better/faster way to reach a stable $\\sigma_{\\rho}$ value\n",
    "2. Use a more strict stable condition: `differ < 1e-6` must meet for 10 consecutive `ndraws`"
   ],
   "metadata": {}
  },
  {
   "cell_type": "code",
   "execution_count": 23,
   "source": [
    "# [your code here]"
   ],
   "outputs": [],
   "metadata": {}
  },
  {
   "cell_type": "markdown",
   "source": [
    "## Monte Carlo -- Bootstrapping\n",
    "\n",
    "We can also use Monte Carlo methods to \"bootstrap\" confidence intervals on our measured quantities. This is often useful when we have a small sample of measurements and don't know the errors involved. Using the scatter inherent in our data and our handy random number generator, we can still get a statistical measure of errors as confidence intervals, pulling the data up by its bootstraps.\n",
    "\n",
    "**Note:** The main assumption with bootstrapping is that all measurements are *iid normal*, meaning each observation was collected independently of other measurements and is expected to have normal (Gaussian) errors.\n",
    "\n",
    "Modified from [Introduction to Statistical Methodology, Second Edition Chaper 3](https://bookdown.org/dereksonderegger/570/3-confidence-intervals-via-bootstrapping.html)\n",
    "\n",
    "Let's read in an array of data that measures the mercury levels of several lakes in Florida."
   ],
   "metadata": {}
  },
  {
   "cell_type": "code",
   "execution_count": 26,
   "source": [
    "# We'll do a deep dive on pandas soon! for now we're just using it to get data\n",
    "import pandas as pd\n",
    "df = pd.read_csv('https://www.lock5stat.com/datasets3e/FloridaLakes.csv')\n",
    "avg_mercury = df['AvgMercury'].to_numpy()\n",
    "print('N measurements:', len(avg_mercury))"
   ],
   "outputs": [
    {
     "output_type": "stream",
     "name": "stdout",
     "text": [
      "N measurements: 53\n"
     ]
    }
   ],
   "metadata": {}
  },
  {
   "cell_type": "markdown",
   "source": [
    "Let's make a histogram to see what we're looking at!"
   ],
   "metadata": {}
  },
  {
   "cell_type": "code",
   "execution_count": 34,
   "source": [
    "# Plot a histogram \n",
    "fig, ax = plt.subplots(facecolor='white', figsize=(4,3), dpi=150)\n",
    "set_plot_axis_label(ax, 'Avg mercury', 'Count')\n",
    "ax.set_title('Mercury level in Florida Lakes', size='medium', fontname='Helvetica')\n",
    "ax.hist(avg_mercury, histtype='step', range=(0, np.max(avg_mercury)), bins=10,\n",
    "        color='black')\n",
    "plt.show()"
   ],
   "outputs": [
    {
     "output_type": "display_data",
     "data": {
      "image/png": "[encoded data removed]",
      "text/plain": [
       "<Figure size 600x450 with 1 Axes>"
      ]
     },
     "metadata": {}
    }
   ],
   "metadata": {}
  },
  {
   "cell_type": "markdown",
   "source": [
    "Hmm this histogram doesn't look very Gaussian... it seems a little skewed (not symmetrical). \n",
    "\n",
    "When we have a skewed distribution, the mean of the value is not always the best measure of the center of the values. Also, what would the standard deviation be? So far we've only seen symmetrical scatter in our data...\n",
    "\n",
    "We can still calculate them but they may not represent the data as nicely as the examples we've seen so far."
   ],
   "metadata": {}
  },
  {
   "cell_type": "code",
   "execution_count": 28,
   "source": [
    "print(f'Mean mercury in Florida lakes is {np.mean(avg_mercury):1.2f}, +/- {np.std(avg_mercury):.3f}')"
   ],
   "outputs": [
    {
     "output_type": "stream",
     "name": "stdout",
     "text": [
      "Mean mercury in Florida lakes is 0.53, +/- 0.338\n"
     ]
    }
   ],
   "metadata": {}
  },
  {
   "cell_type": "markdown",
   "source": [
    "When we have small numbers of observations that are skewed, we can't always be confident that the mean and standard deviation are good measures of the underlying distribution in our data. This is where **bootstrapping** becomes very useful!\n",
    "\n",
    "This time we will use `rng.choice()`.\n",
    "\n",
    "```\n",
    "choice(a, size=None, replace=True, p=None, axis=0, shuffle=True)\n",
    "\n",
    "Generates a random sample from a given array\n",
    "\n",
    "Parameters\n",
    "----------\n",
    "a : {array_like, int}\n",
    "    If an ndarray, a random sample is generated from its elements.\n",
    "    If an int, the random sample is generated from np.arange(a).\n",
    "size : {int, tuple[int]}, optional\n",
    "    Output shape.  If the given shape is, e.g., ``(m, n, k)``, then\n",
    "    ``m * n * k`` samples are drawn from the 1-d `a`. If `a` has more\n",
    "    than one dimension, the `size` shape will be inserted into the\n",
    "    `axis` dimension, so the output ``ndim`` will be ``a.ndim - 1 +\n",
    "    len(size)``. Default is None, in which case a single value is\n",
    "    returned.\n",
    "replace : bool, optional\n",
    "    Whether the sample is with or without replacement. Default is True,\n",
    "    meaning that a value of ``a`` can be selected multiple times.\n",
    "p : 1-D array_like, optional\n",
    "    The probabilities associated with each entry in a.\n",
    "    If not given, the sample assumes a uniform distribution over all\n",
    "    entries in ``a``.\n",
    "...\n",
    "```\n",
    "\n",
    "In **bootstrapping** we want to resample the same number of data points **with replacement**, meaning the same values can be drawn multiple times. This also means we need to set `replace=True` in our `choice()` method (but since this is the default we're ok not specifying it)."
   ],
   "metadata": {}
  },
  {
   "cell_type": "code",
   "execution_count": 29,
   "source": [
    "rng = np.random.default_rng()\n",
    "ndraws = len(avg_mercury)  # Take same number of draws as in the measurement\n",
    "avg_mercury_resamp = rng.choice(avg_mercury, ndraws)  # replace=True by default\n",
    "print(avg_mercury_resamp)"
   ],
   "outputs": [
    {
     "output_type": "stream",
     "name": "stdout",
     "text": [
      "[0.34 0.65 0.86 0.65 0.27 0.43 0.16 0.71 0.86 0.16 0.48 0.5  0.86 0.77\n",
      " 0.18 0.05 1.08 0.44 0.27 0.59 0.84 0.94 0.21 0.1  1.1  0.04 0.73 0.16\n",
      " 0.05 0.87 0.34 0.5  0.81 0.04 1.16 1.23 0.19 0.05 0.4  0.27 0.27 0.34\n",
      " 0.5  0.77 0.25 1.33 0.5  0.27 1.1  0.5  1.33 0.27 0.04]\n"
     ]
    }
   ],
   "metadata": {}
  },
  {
   "cell_type": "markdown",
   "source": [
    "Below we'll plot the original mean as a vertical black line and the mean of the resampled array as a vertical red line using `ax.axvline()`."
   ],
   "metadata": {}
  },
  {
   "cell_type": "code",
   "execution_count": 31,
   "source": [
    "# Set up plot \n",
    "fig, ax = plt.subplots(facecolor='white', figsize=(4,3), dpi=150 )\n",
    "set_plot_axis_label(ax, 'Avg mercury', 'Count')\n",
    "ax.set_title('Mercury level in Florida Lakes', size='medium', fontname='Helvetica')\n",
    "\n",
    "# Plot original and mean\n",
    "ax.hist(avg_mercury, histtype='step', range=(0, np.max(avg_mercury)), bins=10, \n",
    "        color='black')\n",
    "ax.axvline(np.mean(avg_mercury), lw=1, color='black', ls='--')\n",
    "\n",
    "# Plot resampled histogram and mean\n",
    "avg_mercury_resamp = rng.choice(avg_mercury, len(avg_mercury))\n",
    "ax.hist(avg_mercury_resamp, histtype='step', range=(0, np.max(avg_mercury)), bins=10,\n",
    "        color='tab:red')\n",
    "ax.axvline(np.mean(avg_mercury_resamp), lw=1, color='tab:red', ls='--')\n",
    "plt.show()"
   ],
   "outputs": [
    {
     "output_type": "execute_result",
     "data": {
      "text/plain": [
       "<matplotlib.lines.Line2D at 0x7f4b633d8a00>"
      ]
     },
     "metadata": {},
     "execution_count": 31
    },
    {
     "output_type": "display_data",
     "data": {
      "image/png": "[encoded data removed]",
      "text/plain": [
       "<Figure size 600x450 with 1 Axes>"
      ]
     },
     "metadata": {}
    }
   ],
   "metadata": {}
  },
  {
   "cell_type": "markdown",
   "source": [
    "It might be surprising that the mean has changed! All we did was resample from the original data and take the mean. If we do this many time, we'll get a distribution of means which we can think of as a set of possible outcomes if we had taken the measurements again and again.\n",
    "\n",
    "Because we are reusing the same measurements to resample, this won't make our mean any more accurate (because we have no new data to go off of).\n",
    "\n",
    "What this *does* do is show us how much our mean would vary if we repeated our experiment many times with the same number of observations and similar scatter in the data... It's a new way to **bootstrap** uncertainty when we didn't have any info about the error arrays to do error propagation!\n",
    "\n",
    "Below, let's rum our resampling a bunch of times and see what values we get for the mean..."
   ],
   "metadata": {}
  },
  {
   "cell_type": "code",
   "execution_count": 33,
   "source": [
    "# plotting \n",
    "fig, ax = plt.subplots(facecolor='white', figsize=(4,3), dpi=150)\n",
    "set_plot_axis_label(ax, 'Avg mercury', 'Count')\n",
    "ax.set_title('Mercury level in Florida Lakes', size='medium', fontname='Helvetica')\n",
    "\n",
    "ax.axvline(np.mean(avg_mercury), lw=1, color='black', ls='--')\n",
    "\n",
    "# random draw result\n",
    "sample_times = 100000\n",
    "\n",
    "mean_collection = []\n",
    "for _ in range(sample_times): \n",
    "        avg_mercury_resamp = rng.choice(avg_mercury, len(avg_mercury))\n",
    "        mean_collection.append(np.mean(avg_mercury_resamp))\n",
    "\n",
    "ax.hist(mean_collection, histtype='step', color='tab:red', bins=50)\n",
    "plt.show()"
   ],
   "outputs": [
    {
     "output_type": "display_data",
     "data": {
      "image/png": "[encoded data removed]",
      "text/plain": [
       "<Figure size 600x450 with 1 Axes>"
      ]
     },
     "metadata": {}
    }
   ],
   "metadata": {}
  },
  {
   "cell_type": "markdown",
   "source": [
    "This looks like a normal (Gaussian) distribution, so we can talk about the dispersion of the mean in terms of the standard deviation! \n",
    "\n",
    "Now we can report the uncertainty of the mean on our original plot in a more satisfying way:"
   ],
   "metadata": {}
  },
  {
   "cell_type": "code",
   "execution_count": 50,
   "source": [
    "# Set up plot \n",
    "fig, ax = plt.subplots(facecolor='white', figsize=(4,3), dpi=150 )\n",
    "set_plot_axis_label(ax, 'Avg mercury', 'Count')\n",
    "ax.set_title('Mercury level in Florida Lakes', size='medium', fontname='Helvetica')\n",
    "\n",
    "# Plot original and mean\n",
    "ax.hist(avg_mercury, histtype='step', range=(0, np.max(avg_mercury)), bins=10, \n",
    "        color='black')\n",
    "ax.axvline(np.mean(avg_mercury), lw=1, color='black', ls='--')\n",
    "\n",
    "# Calculate the 95% confidence interval [2.5%, 97.5%]\n",
    "pct95_low = np.percentile(mean_collection, 2.5)\n",
    "pct95_upp = np.percentile(mean_collection, 97.5)\n",
    "ax.axvline(pct95_low, lw=1, color='tab:blue', ls='--', label='95th pct')\n",
    "ax.axvline(pct95_upp, lw=1, color='tab:blue', ls='--')\n",
    "ax.legend()\n",
    "\n",
    "print(f'Mean mercury in Florida lakes is {mu:1.2f}', end='')\n",
    "print(f' with a 95% confidence interval of [{pct95_low:.2f}, {pct95_upp:.2f}]')\n",
    "plt.show()"
   ],
   "outputs": [
    {
     "output_type": "stream",
     "name": "stdout",
     "text": [
      "Mean mercury in Florida lakes is 0.53 with a 95% confidence interval of [0.44, 0.62]\n"
     ]
    },
    {
     "output_type": "display_data",
     "data": {
      "image/png": "[encoded data removed]",
      "text/plain": [
       "<Figure size 600x450 with 1 Axes>"
      ]
     },
     "metadata": {}
    }
   ],
   "metadata": {}
  },
  {
   "cell_type": "markdown",
   "source": [
    "Now using the distribution of the bootstrapped means, we can capture the scatter in our data with N=59 observations if we were to repeat the trial many times. \n",
    "\n",
    "Now we can say we are 95% confident that the true mean mercury in Florida lakes is within our 95% confidence interval, given the measurements we made."
   ],
   "metadata": {}
  },
  {
   "cell_type": "markdown",
   "source": [
    "## [Assignment] What's the value for $\\pi$?\n",
    "\n",
    "In this assignment, you will need to use the MC method to estimate the values of $\\pi$.\n",
    "\n",
    "Assuming you have a quarter circle with the radius of 1 and a square that share it's edge with the quarter circle's \n",
    "radius (see the plot below). \n",
    "\n",
    "![Monte-Carlo pi](https://helloacm.com/wp-content/uploads/2015/11/Monte-Carlo01.jpg)\n",
    "\n",
    "Therefore, we know:\n",
    "$$\n",
    "Area_{\\rm quarter\\ circle} = \\pi r^2/4 \\\\\n",
    "Area_{\\rm square} = r^2\n",
    "$$\n",
    "The ratio of the two will be\n",
    "$$\n",
    "\\frac{Area_{\\rm quarter\\ circle}}{Area_{\\rm square}} = \\frac{\\pi r^2/4}{r^2} = \\frac{\\pi}{4}\n",
    "$$\n",
    "Rearange the equation and changes the area with the number of points we have:\n",
    "$$\n",
    "\\pi = 4 \\frac{Area_{\\rm quarter\\ circle}}{Area_{\\rm square}} = 4 \\frac{N_{\\rm quarter\\ circle}}{N_{\\rm square}}\n",
    "$$\n",
    "where $N_{\\rm quarter\\ circle}$ is the number of points within the quarter circle and $N_{\\rm square}$ is the number of points\n",
    "within the square.\n",
    "\n",
    "Tips:\n",
    "1. You will need to generate two arrays with the random generator as the x and y axis of each points.\n",
    "2. Calculate the number of points within the quarter circle and within the square\n",
    "3. You get $\\pi$ by dividing the two numbers and times 4\n",
    "\n",
    "**Show that your $\\pi$ has $< 1e-15$ difference from `np.pi`**"
   ],
   "metadata": {}
  },
  {
   "cell_type": "code",
   "execution_count": null,
   "source": [
    "# [your code here]"
   ],
   "outputs": [],
   "metadata": {}
  }
 ],
 "metadata": {
  "orig_nbformat": 4,
  "language_info": {
   "name": "python",
   "version": "3.9.7",
   "mimetype": "text/x-python",
   "codemirror_mode": {
    "name": "ipython",
    "version": 3
   },
   "pygments_lexer": "ipython3",
   "nbconvert_exporter": "python",
   "file_extension": ".py"
  },
  "kernelspec": {
   "name": "python3",
   "display_name": "Python 3.9.7 64-bit ('spirl': conda)"
  },
  "interpreter": {
   "hash": "2f80b920db57ddf6729f1c3d73eef5d58e783dc11850fd4dafb78bae7877f3ad"
  }
 },
 "nbformat": 4,
 "nbformat_minor": 2
}