{
 "metadata": {
  "language_info": {
   "codemirror_mode": {
    "name": "ipython",
    "version": 3
   },
   "file_extension": ".py",
   "mimetype": "text/x-python",
   "name": "python",
   "nbconvert_exporter": "python",
   "pygments_lexer": "ipython3",
   "version": "3.7.1-final"
  },
  "orig_nbformat": 2,
  "kernelspec": {
   "name": "python_defaultSpec_1600128451139",
   "display_name": "Python 3.7.1 64-bit ('Anaconda3': conda)"
  }
 },
 "nbformat": 4,
 "nbformat_minor": 2,
 "cells": [
  {
   "source": [
    "# Jupyter Sandbox\n",
    "\n",
    "Use this page to practice the concepts in the book or to try your own things! You can go to the Binder version of this page [here](https://cjtu.github.io/spirl/sandbox) or by clicking the rocket icon at the top.\n",
    "\n",
    "Like other interactive pages of this text, this sandbox comes preloaded with core scientific programming packages like numpy, scipy, matplotlib and pandas. For a full like of the packages you can import, you can run the cell below."
   ],
   "cell_type": "markdown",
   "metadata": {}
  },
  {
   "cell_type": "code",
   "execution_count": null,
   "metadata": {
    "tags": []
   },
   "outputs": [],
   "source": [
    "!conda list"
   ]
  },
  {
   "source": [
    "Happy coding!"
   ],
   "cell_type": "markdown",
   "metadata": {}
  },
  {
   "cell_type": "code",
   "execution_count": null,
   "metadata": {},
   "outputs": [],
   "source": [
    "# Write your own code here or make new code cells below\n",
    "# Make sure you are on the Binder version of the site by following the link above\n",
    "\n"
   ]
  }
 ]
}